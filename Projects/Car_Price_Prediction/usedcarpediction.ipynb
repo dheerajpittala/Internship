{
 "cells": [
  {
   "cell_type": "code",
   "execution_count": 1,
   "metadata": {},
   "outputs": [
    {
     "name": "stdout",
     "output_type": "stream",
     "text": [
      "Requirement already up-to-date: seaborn in c:\\users\\dheerajkumar_pittala\\appdata\\local\\continuum\\anaconda3\\lib\\site-packages (0.11.2)\n",
      "Requirement already satisfied, skipping upgrade: numpy>=1.15 in c:\\users\\dheerajkumar_pittala\\appdata\\local\\continuum\\anaconda3\\lib\\site-packages (from seaborn) (1.16.5)\n",
      "Requirement already satisfied, skipping upgrade: scipy>=1.0 in c:\\users\\dheerajkumar_pittala\\appdata\\local\\continuum\\anaconda3\\lib\\site-packages (from seaborn) (1.3.1)\n",
      "Requirement already satisfied, skipping upgrade: matplotlib>=2.2 in c:\\users\\dheerajkumar_pittala\\appdata\\local\\continuum\\anaconda3\\lib\\site-packages (from seaborn) (3.1.1)\n",
      "Requirement already satisfied, skipping upgrade: pandas>=0.23 in c:\\users\\dheerajkumar_pittala\\appdata\\local\\continuum\\anaconda3\\lib\\site-packages (from seaborn) (0.25.1)\n",
      "Requirement already satisfied, skipping upgrade: cycler>=0.10 in c:\\users\\dheerajkumar_pittala\\appdata\\local\\continuum\\anaconda3\\lib\\site-packages (from matplotlib>=2.2->seaborn) (0.10.0)\n",
      "Requirement already satisfied, skipping upgrade: kiwisolver>=1.0.1 in c:\\users\\dheerajkumar_pittala\\appdata\\local\\continuum\\anaconda3\\lib\\site-packages (from matplotlib>=2.2->seaborn) (1.1.0)\n",
      "Requirement already satisfied, skipping upgrade: pyparsing!=2.0.4,!=2.1.2,!=2.1.6,>=2.0.1 in c:\\users\\dheerajkumar_pittala\\appdata\\local\\continuum\\anaconda3\\lib\\site-packages (from matplotlib>=2.2->seaborn) (2.4.2)\n",
      "Requirement already satisfied, skipping upgrade: python-dateutil>=2.1 in c:\\users\\dheerajkumar_pittala\\appdata\\local\\continuum\\anaconda3\\lib\\site-packages (from matplotlib>=2.2->seaborn) (2.8.0)\n",
      "Requirement already satisfied, skipping upgrade: pytz>=2017.2 in c:\\users\\dheerajkumar_pittala\\appdata\\local\\continuum\\anaconda3\\lib\\site-packages (from pandas>=0.23->seaborn) (2019.3)\n",
      "Requirement already satisfied, skipping upgrade: six in c:\\users\\dheerajkumar_pittala\\appdata\\local\\continuum\\anaconda3\\lib\\site-packages (from cycler>=0.10->matplotlib>=2.2->seaborn) (1.12.0)\n",
      "Requirement already satisfied, skipping upgrade: setuptools in c:\\users\\dheerajkumar_pittala\\appdata\\local\\continuum\\anaconda3\\lib\\site-packages (from kiwisolver>=1.0.1->matplotlib>=2.2->seaborn) (41.4.0)\n"
     ]
    }
   ],
   "source": [
    "import pandas as pd\n",
    "import numpy as np\n",
    "import datetime\n",
    "\n",
    "!pip install seaborn --upgrade\n",
    "\n",
    "import seaborn as sns\n",
    "import matplotlib.pyplot as plt\n",
    "%matplotlib inline\n",
    "import warnings\n",
    "warnings.filterwarnings('ignore')"
   ]
  },
  {
   "cell_type": "code",
   "execution_count": 2,
   "metadata": {},
   "outputs": [],
   "source": [
    "df = pd.read_csv(\"car_data.csv\", index_col = 'Unnamed: 0') # Importing the data\n",
    "pd.set_option('display.max_columns', 500)"
   ]
  },
  {
   "cell_type": "code",
   "execution_count": 3,
   "metadata": {},
   "outputs": [
    {
     "data": {
      "text/html": [
       "<div>\n",
       "<style scoped>\n",
       "    .dataframe tbody tr th:only-of-type {\n",
       "        vertical-align: middle;\n",
       "    }\n",
       "\n",
       "    .dataframe tbody tr th {\n",
       "        vertical-align: top;\n",
       "    }\n",
       "\n",
       "    .dataframe thead th {\n",
       "        text-align: right;\n",
       "    }\n",
       "</style>\n",
       "<table border=\"1\" class=\"dataframe\">\n",
       "  <thead>\n",
       "    <tr style=\"text-align: right;\">\n",
       "      <th></th>\n",
       "      <th>Name</th>\n",
       "      <th>Transmission type</th>\n",
       "      <th>Variant</th>\n",
       "      <th>Mileage</th>\n",
       "      <th>Owned</th>\n",
       "      <th>Fuel type</th>\n",
       "      <th>City</th>\n",
       "      <th>Price</th>\n",
       "    </tr>\n",
       "  </thead>\n",
       "  <tbody>\n",
       "    <tr>\n",
       "      <td>0</td>\n",
       "      <td>2017 Maruti Swift</td>\n",
       "      <td>Manual</td>\n",
       "      <td>VDI ABS Manual</td>\n",
       "      <td>69,894 km</td>\n",
       "      <td>1st Owner</td>\n",
       "      <td>Diesel</td>\n",
       "      <td>Rohtak</td>\n",
       "      <td>₹4,74,699</td>\n",
       "    </tr>\n",
       "    <tr>\n",
       "      <td>1</td>\n",
       "      <td>2017 Maruti Wagon R 1.0</td>\n",
       "      <td>Manual</td>\n",
       "      <td>VXI Manual</td>\n",
       "      <td>20,685 km</td>\n",
       "      <td>2nd Owner</td>\n",
       "      <td>Petrol</td>\n",
       "      <td>Rohtak</td>\n",
       "      <td>₹3,56,699</td>\n",
       "    </tr>\n",
       "    <tr>\n",
       "      <td>2</td>\n",
       "      <td>2019 Maruti Vitara Brezza</td>\n",
       "      <td>Manual</td>\n",
       "      <td>VDI Manual</td>\n",
       "      <td>31,245 km</td>\n",
       "      <td>1st Owner</td>\n",
       "      <td>Diesel</td>\n",
       "      <td>Rohtak</td>\n",
       "      <td>₹7,98,699</td>\n",
       "    </tr>\n",
       "    <tr>\n",
       "      <td>3</td>\n",
       "      <td>2014 Maruti Swift</td>\n",
       "      <td>Manual</td>\n",
       "      <td>VDI Manual</td>\n",
       "      <td>71,450 km</td>\n",
       "      <td>2nd Owner</td>\n",
       "      <td>Diesel</td>\n",
       "      <td>Rohtak</td>\n",
       "      <td>₹3,30,599</td>\n",
       "    </tr>\n",
       "    <tr>\n",
       "      <td>4</td>\n",
       "      <td>2013 Maruti Ertiga</td>\n",
       "      <td>Manual</td>\n",
       "      <td>VDI ABS Manual</td>\n",
       "      <td>39,487 km</td>\n",
       "      <td>1st Owner</td>\n",
       "      <td>Diesel</td>\n",
       "      <td>Rohtak</td>\n",
       "      <td>₹4,91,299</td>\n",
       "    </tr>\n",
       "    <tr>\n",
       "      <td>...</td>\n",
       "      <td>...</td>\n",
       "      <td>...</td>\n",
       "      <td>...</td>\n",
       "      <td>...</td>\n",
       "      <td>...</td>\n",
       "      <td>...</td>\n",
       "      <td>...</td>\n",
       "      <td>...</td>\n",
       "    </tr>\n",
       "    <tr>\n",
       "      <td>5472</td>\n",
       "      <td>2016 Maruti Swift Dzire</td>\n",
       "      <td>Manual</td>\n",
       "      <td>VDI ABS Manual</td>\n",
       "      <td>39,042 km</td>\n",
       "      <td>2nd Owner</td>\n",
       "      <td>Diesel</td>\n",
       "      <td>Zirakpur</td>\n",
       "      <td>₹5,28,299</td>\n",
       "    </tr>\n",
       "    <tr>\n",
       "      <td>5473</td>\n",
       "      <td>2013 Maruti Swift Dzire</td>\n",
       "      <td>Manual</td>\n",
       "      <td>ZDI Manual</td>\n",
       "      <td>1,03,531 km</td>\n",
       "      <td>2nd Owner</td>\n",
       "      <td>Diesel</td>\n",
       "      <td>Zirakpur</td>\n",
       "      <td>₹3,86,599</td>\n",
       "    </tr>\n",
       "    <tr>\n",
       "      <td>5474</td>\n",
       "      <td>2016 Hyundai Grand i10</td>\n",
       "      <td>Manual</td>\n",
       "      <td>ASTA 1.2 (O) VTVT Manual</td>\n",
       "      <td>22,387 km</td>\n",
       "      <td>1st Owner</td>\n",
       "      <td>Petrol</td>\n",
       "      <td>Zirakpur</td>\n",
       "      <td>₹4,36,499</td>\n",
       "    </tr>\n",
       "    <tr>\n",
       "      <td>5475</td>\n",
       "      <td>2016 Maruti Vitara Brezza</td>\n",
       "      <td>Manual</td>\n",
       "      <td>ZDI PLUS Manual</td>\n",
       "      <td>69,990 km</td>\n",
       "      <td>1st Owner</td>\n",
       "      <td>Diesel</td>\n",
       "      <td>Zirakpur</td>\n",
       "      <td>₹7,42,199</td>\n",
       "    </tr>\n",
       "    <tr>\n",
       "      <td>5476</td>\n",
       "      <td>2017 Hyundai Grand i10</td>\n",
       "      <td>Manual</td>\n",
       "      <td>ASTA 1.2 KAPPA VTVT Manual</td>\n",
       "      <td>44,147 km</td>\n",
       "      <td>1st Owner</td>\n",
       "      <td>Petrol</td>\n",
       "      <td>Zirakpur</td>\n",
       "      <td>₹4,94,599</td>\n",
       "    </tr>\n",
       "  </tbody>\n",
       "</table>\n",
       "<p>5477 rows × 8 columns</p>\n",
       "</div>"
      ],
      "text/plain": [
       "                           Name Transmission type                     Variant  \\\n",
       "0             2017 Maruti Swift            Manual              VDI ABS Manual   \n",
       "1       2017 Maruti Wagon R 1.0            Manual                  VXI Manual   \n",
       "2     2019 Maruti Vitara Brezza            Manual                  VDI Manual   \n",
       "3             2014 Maruti Swift            Manual                  VDI Manual   \n",
       "4            2013 Maruti Ertiga            Manual              VDI ABS Manual   \n",
       "...                         ...               ...                         ...   \n",
       "5472    2016 Maruti Swift Dzire            Manual              VDI ABS Manual   \n",
       "5473    2013 Maruti Swift Dzire            Manual                  ZDI Manual   \n",
       "5474     2016 Hyundai Grand i10            Manual    ASTA 1.2 (O) VTVT Manual   \n",
       "5475  2016 Maruti Vitara Brezza            Manual             ZDI PLUS Manual   \n",
       "5476     2017 Hyundai Grand i10            Manual  ASTA 1.2 KAPPA VTVT Manual   \n",
       "\n",
       "          Mileage      Owned Fuel type      City      Price  \n",
       "0       69,894 km  1st Owner    Diesel    Rohtak  ₹4,74,699  \n",
       "1       20,685 km  2nd Owner    Petrol    Rohtak  ₹3,56,699  \n",
       "2       31,245 km  1st Owner    Diesel    Rohtak  ₹7,98,699  \n",
       "3       71,450 km  2nd Owner    Diesel    Rohtak  ₹3,30,599  \n",
       "4       39,487 km  1st Owner    Diesel    Rohtak  ₹4,91,299  \n",
       "...           ...        ...       ...       ...        ...  \n",
       "5472    39,042 km  2nd Owner    Diesel  Zirakpur  ₹5,28,299  \n",
       "5473  1,03,531 km  2nd Owner    Diesel  Zirakpur  ₹3,86,599  \n",
       "5474    22,387 km  1st Owner    Petrol  Zirakpur  ₹4,36,499  \n",
       "5475    69,990 km  1st Owner    Diesel  Zirakpur  ₹7,42,199  \n",
       "5476    44,147 km  1st Owner    Petrol  Zirakpur  ₹4,94,599  \n",
       "\n",
       "[5477 rows x 8 columns]"
      ]
     },
     "execution_count": 3,
     "metadata": {},
     "output_type": "execute_result"
    }
   ],
   "source": [
    "df"
   ]
  },
  {
   "cell_type": "code",
   "execution_count": 4,
   "metadata": {},
   "outputs": [],
   "source": [
    "df.replace(',','', regex=True, inplace=True) # Replacing the transmission type from Variant name as we already have it\n",
    "df['Variant'] = df['Variant'].str.replace('Manual', '')\n",
    "df['Variant'] = df['Variant'].str.replace('Automatic', '')"
   ]
  },
  {
   "cell_type": "code",
   "execution_count": 5,
   "metadata": {},
   "outputs": [
    {
     "data": {
      "text/html": [
       "<div>\n",
       "<style scoped>\n",
       "    .dataframe tbody tr th:only-of-type {\n",
       "        vertical-align: middle;\n",
       "    }\n",
       "\n",
       "    .dataframe tbody tr th {\n",
       "        vertical-align: top;\n",
       "    }\n",
       "\n",
       "    .dataframe thead th {\n",
       "        text-align: right;\n",
       "    }\n",
       "</style>\n",
       "<table border=\"1\" class=\"dataframe\">\n",
       "  <thead>\n",
       "    <tr style=\"text-align: right;\">\n",
       "      <th></th>\n",
       "      <th>Name</th>\n",
       "      <th>Transmission type</th>\n",
       "      <th>Variant</th>\n",
       "      <th>Mileage</th>\n",
       "      <th>Owned</th>\n",
       "      <th>Fuel type</th>\n",
       "      <th>City</th>\n",
       "      <th>Price</th>\n",
       "    </tr>\n",
       "  </thead>\n",
       "  <tbody>\n",
       "    <tr>\n",
       "      <td>5472</td>\n",
       "      <td>2016 Maruti Swift Dzire</td>\n",
       "      <td>Manual</td>\n",
       "      <td>VDI ABS</td>\n",
       "      <td>39042 km</td>\n",
       "      <td>2nd Owner</td>\n",
       "      <td>Diesel</td>\n",
       "      <td>Zirakpur</td>\n",
       "      <td>₹528299</td>\n",
       "    </tr>\n",
       "    <tr>\n",
       "      <td>5473</td>\n",
       "      <td>2013 Maruti Swift Dzire</td>\n",
       "      <td>Manual</td>\n",
       "      <td>ZDI</td>\n",
       "      <td>103531 km</td>\n",
       "      <td>2nd Owner</td>\n",
       "      <td>Diesel</td>\n",
       "      <td>Zirakpur</td>\n",
       "      <td>₹386599</td>\n",
       "    </tr>\n",
       "    <tr>\n",
       "      <td>5474</td>\n",
       "      <td>2016 Hyundai Grand i10</td>\n",
       "      <td>Manual</td>\n",
       "      <td>ASTA 1.2 (O) VTVT</td>\n",
       "      <td>22387 km</td>\n",
       "      <td>1st Owner</td>\n",
       "      <td>Petrol</td>\n",
       "      <td>Zirakpur</td>\n",
       "      <td>₹436499</td>\n",
       "    </tr>\n",
       "    <tr>\n",
       "      <td>5475</td>\n",
       "      <td>2016 Maruti Vitara Brezza</td>\n",
       "      <td>Manual</td>\n",
       "      <td>ZDI PLUS</td>\n",
       "      <td>69990 km</td>\n",
       "      <td>1st Owner</td>\n",
       "      <td>Diesel</td>\n",
       "      <td>Zirakpur</td>\n",
       "      <td>₹742199</td>\n",
       "    </tr>\n",
       "    <tr>\n",
       "      <td>5476</td>\n",
       "      <td>2017 Hyundai Grand i10</td>\n",
       "      <td>Manual</td>\n",
       "      <td>ASTA 1.2 KAPPA VTVT</td>\n",
       "      <td>44147 km</td>\n",
       "      <td>1st Owner</td>\n",
       "      <td>Petrol</td>\n",
       "      <td>Zirakpur</td>\n",
       "      <td>₹494599</td>\n",
       "    </tr>\n",
       "  </tbody>\n",
       "</table>\n",
       "</div>"
      ],
      "text/plain": [
       "                           Name Transmission type               Variant  \\\n",
       "5472    2016 Maruti Swift Dzire            Manual              VDI ABS    \n",
       "5473    2013 Maruti Swift Dzire            Manual                  ZDI    \n",
       "5474     2016 Hyundai Grand i10            Manual    ASTA 1.2 (O) VTVT    \n",
       "5475  2016 Maruti Vitara Brezza            Manual             ZDI PLUS    \n",
       "5476     2017 Hyundai Grand i10            Manual  ASTA 1.2 KAPPA VTVT    \n",
       "\n",
       "        Mileage      Owned Fuel type      City    Price  \n",
       "5472   39042 km  2nd Owner    Diesel  Zirakpur  ₹528299  \n",
       "5473  103531 km  2nd Owner    Diesel  Zirakpur  ₹386599  \n",
       "5474   22387 km  1st Owner    Petrol  Zirakpur  ₹436499  \n",
       "5475   69990 km  1st Owner    Diesel  Zirakpur  ₹742199  \n",
       "5476   44147 km  1st Owner    Petrol  Zirakpur  ₹494599  "
      ]
     },
     "execution_count": 5,
     "metadata": {},
     "output_type": "execute_result"
    }
   ],
   "source": [
    "df.tail()"
   ]
  },
  {
   "cell_type": "code",
   "execution_count": 6,
   "metadata": {},
   "outputs": [
    {
     "data": {
      "text/plain": [
       "(5477, 8)"
      ]
     },
     "execution_count": 6,
     "metadata": {},
     "output_type": "execute_result"
    }
   ],
   "source": [
    "df.shape # We have 3483 rows and 8 coulmns"
   ]
  },
  {
   "cell_type": "code",
   "execution_count": 7,
   "metadata": {},
   "outputs": [
    {
     "name": "stdout",
     "output_type": "stream",
     "text": [
      "<class 'pandas.core.frame.DataFrame'>\n",
      "Int64Index: 5477 entries, 0 to 5476\n",
      "Data columns (total 8 columns):\n",
      "Name                 5477 non-null object\n",
      "Transmission type    5323 non-null object\n",
      "Variant              5477 non-null object\n",
      "Mileage              5477 non-null object\n",
      "Owned                5477 non-null object\n",
      "Fuel type            5477 non-null object\n",
      "City                 5477 non-null object\n",
      "Price                5477 non-null object\n",
      "dtypes: object(8)\n",
      "memory usage: 385.1+ KB\n"
     ]
    }
   ],
   "source": [
    "df.info() # Basic info about data types, we will need to convert some of them to integer"
   ]
  },
  {
   "cell_type": "code",
   "execution_count": 8,
   "metadata": {},
   "outputs": [
    {
     "data": {
      "text/plain": [
       "Name                  396\n",
       "Transmission type       2\n",
       "Variant               504\n",
       "Mileage              2406\n",
       "Owned                   4\n",
       "Fuel type               4\n",
       "City                   29\n",
       "Price                2062\n",
       "dtype: int64"
      ]
     },
     "execution_count": 8,
     "metadata": {},
     "output_type": "execute_result"
    }
   ],
   "source": [
    "df.nunique() # Unique values in each column"
   ]
  },
  {
   "cell_type": "code",
   "execution_count": 9,
   "metadata": {},
   "outputs": [
    {
     "data": {
      "text/plain": [
       "Name                   0\n",
       "Transmission type    154\n",
       "Variant                0\n",
       "Mileage                0\n",
       "Owned                  0\n",
       "Fuel type              0\n",
       "City                   0\n",
       "Price                  0\n",
       "dtype: int64"
      ]
     },
     "execution_count": 9,
     "metadata": {},
     "output_type": "execute_result"
    }
   ],
   "source": [
    "df.isnull().sum() # Some value in transmission type are missing"
   ]
  },
  {
   "cell_type": "code",
   "execution_count": 10,
   "metadata": {},
   "outputs": [
    {
     "data": {
      "text/plain": [
       "<matplotlib.axes._subplots.AxesSubplot at 0x2dbc46cde08>"
      ]
     },
     "execution_count": 10,
     "metadata": {},
     "output_type": "execute_result"
    },
    {
     "data": {
      "image/png": "[encoded data removed]",
      "text/plain": [
       "<Figure size 432x288 with 1 Axes>"
      ]
     },
     "metadata": {
      "needs_background": "light"
     },
     "output_type": "display_data"
    }
   ],
   "source": [
    "df['Transmission type'].value_counts().plot.bar() "
   ]
  },
  {
   "cell_type": "markdown",
   "metadata": {},
   "source": [
    "Most of the cars are Manual transmission."
   ]
  },
  {
   "cell_type": "code",
   "execution_count": 11,
   "metadata": {},
   "outputs": [],
   "source": [
    "df['Year'] = df.Name.str[:4] # Extracting year from name, and sorting it as integer\n",
    "df['Year'] = df['Year'].astype(int)"
   ]
  },
  {
   "cell_type": "code",
   "execution_count": 12,
   "metadata": {},
   "outputs": [],
   "source": [
    "df.Name = df.Name.str[4:] # Slicing the name so that it doesn't contain the year"
   ]
  },
  {
   "cell_type": "code",
   "execution_count": 13,
   "metadata": {},
   "outputs": [],
   "source": [
    "df.Mileage = df.Mileage.str[:-3] # Removing ' km' form end of Mileage and converting it to integer\n",
    "df['Mileage'] = df['Mileage'].astype(int)"
   ]
  },
  {
   "cell_type": "code",
   "execution_count": 14,
   "metadata": {},
   "outputs": [],
   "source": [
    "df.Price = df.Price.str[1:] # Removing the rupee symbol '₹' from price, and changign type to integer\n",
    "df ['Price'] = df['Price'].astype(int)"
   ]
  },
  {
   "cell_type": "code",
   "execution_count": 15,
   "metadata": {},
   "outputs": [],
   "source": [
    "df['Manufacturer'] = df['Name'].str.split(' ').str[1] # Removing white space, and separating Manufacturer name form car name\n",
    "df['Model'] = df['Name'].str.split(' ').str[2]"
   ]
  },
  {
   "cell_type": "code",
   "execution_count": 16,
   "metadata": {},
   "outputs": [
    {
     "data": {
      "text/html": [
       "<div>\n",
       "<style scoped>\n",
       "    .dataframe tbody tr th:only-of-type {\n",
       "        vertical-align: middle;\n",
       "    }\n",
       "\n",
       "    .dataframe tbody tr th {\n",
       "        vertical-align: top;\n",
       "    }\n",
       "\n",
       "    .dataframe thead th {\n",
       "        text-align: right;\n",
       "    }\n",
       "</style>\n",
       "<table border=\"1\" class=\"dataframe\">\n",
       "  <thead>\n",
       "    <tr style=\"text-align: right;\">\n",
       "      <th></th>\n",
       "      <th>Name</th>\n",
       "      <th>Transmission type</th>\n",
       "      <th>Variant</th>\n",
       "      <th>Mileage</th>\n",
       "      <th>Owned</th>\n",
       "      <th>Fuel type</th>\n",
       "      <th>City</th>\n",
       "      <th>Price</th>\n",
       "      <th>Year</th>\n",
       "      <th>Manufacturer</th>\n",
       "      <th>Model</th>\n",
       "    </tr>\n",
       "  </thead>\n",
       "  <tbody>\n",
       "    <tr>\n",
       "      <td>0</td>\n",
       "      <td>Maruti Swift</td>\n",
       "      <td>Manual</td>\n",
       "      <td>VDI ABS</td>\n",
       "      <td>69894</td>\n",
       "      <td>1st Owner</td>\n",
       "      <td>Diesel</td>\n",
       "      <td>Rohtak</td>\n",
       "      <td>474699</td>\n",
       "      <td>2017</td>\n",
       "      <td>Maruti</td>\n",
       "      <td>Swift</td>\n",
       "    </tr>\n",
       "    <tr>\n",
       "      <td>1</td>\n",
       "      <td>Maruti Wagon R 1.0</td>\n",
       "      <td>Manual</td>\n",
       "      <td>VXI</td>\n",
       "      <td>20685</td>\n",
       "      <td>2nd Owner</td>\n",
       "      <td>Petrol</td>\n",
       "      <td>Rohtak</td>\n",
       "      <td>356699</td>\n",
       "      <td>2017</td>\n",
       "      <td>Maruti</td>\n",
       "      <td>Wagon</td>\n",
       "    </tr>\n",
       "    <tr>\n",
       "      <td>2</td>\n",
       "      <td>Maruti Vitara Brezza</td>\n",
       "      <td>Manual</td>\n",
       "      <td>VDI</td>\n",
       "      <td>31245</td>\n",
       "      <td>1st Owner</td>\n",
       "      <td>Diesel</td>\n",
       "      <td>Rohtak</td>\n",
       "      <td>798699</td>\n",
       "      <td>2019</td>\n",
       "      <td>Maruti</td>\n",
       "      <td>Vitara</td>\n",
       "    </tr>\n",
       "    <tr>\n",
       "      <td>3</td>\n",
       "      <td>Maruti Swift</td>\n",
       "      <td>Manual</td>\n",
       "      <td>VDI</td>\n",
       "      <td>71450</td>\n",
       "      <td>2nd Owner</td>\n",
       "      <td>Diesel</td>\n",
       "      <td>Rohtak</td>\n",
       "      <td>330599</td>\n",
       "      <td>2014</td>\n",
       "      <td>Maruti</td>\n",
       "      <td>Swift</td>\n",
       "    </tr>\n",
       "    <tr>\n",
       "      <td>4</td>\n",
       "      <td>Maruti Ertiga</td>\n",
       "      <td>Manual</td>\n",
       "      <td>VDI ABS</td>\n",
       "      <td>39487</td>\n",
       "      <td>1st Owner</td>\n",
       "      <td>Diesel</td>\n",
       "      <td>Rohtak</td>\n",
       "      <td>491299</td>\n",
       "      <td>2013</td>\n",
       "      <td>Maruti</td>\n",
       "      <td>Ertiga</td>\n",
       "    </tr>\n",
       "  </tbody>\n",
       "</table>\n",
       "</div>"
      ],
      "text/plain": [
       "                    Name Transmission type   Variant  Mileage      Owned  \\\n",
       "0           Maruti Swift            Manual  VDI ABS     69894  1st Owner   \n",
       "1     Maruti Wagon R 1.0            Manual      VXI     20685  2nd Owner   \n",
       "2   Maruti Vitara Brezza            Manual      VDI     31245  1st Owner   \n",
       "3           Maruti Swift            Manual      VDI     71450  2nd Owner   \n",
       "4          Maruti Ertiga            Manual  VDI ABS     39487  1st Owner   \n",
       "\n",
       "  Fuel type    City   Price  Year Manufacturer   Model  \n",
       "0    Diesel  Rohtak  474699  2017       Maruti   Swift  \n",
       "1    Petrol  Rohtak  356699  2017       Maruti   Wagon  \n",
       "2    Diesel  Rohtak  798699  2019       Maruti  Vitara  \n",
       "3    Diesel  Rohtak  330599  2014       Maruti   Swift  \n",
       "4    Diesel  Rohtak  491299  2013       Maruti  Ertiga  "
      ]
     },
     "execution_count": 16,
     "metadata": {},
     "output_type": "execute_result"
    }
   ],
   "source": [
    "df.head() # Checking if everythgin worked right, it has."
   ]
  },
  {
   "cell_type": "code",
   "execution_count": 17,
   "metadata": {},
   "outputs": [
    {
     "data": {
      "text/plain": [
       "Manual       4777\n",
       "Automatic     546\n",
       "Name: Transmission type, dtype: int64"
      ]
     },
     "execution_count": 17,
     "metadata": {},
     "output_type": "execute_result"
    }
   ],
   "source": [
    "df['Transmission type'].value_counts() # Value counts of transmission"
   ]
  },
  {
   "cell_type": "code",
   "execution_count": 18,
   "metadata": {},
   "outputs": [
    {
     "data": {
      "text/plain": [
       "1st Owner    4427\n",
       "2nd Owner     944\n",
       "3rd Owner      93\n",
       "4th Owner      13\n",
       "Name: Owned, dtype: int64"
      ]
     },
     "execution_count": 18,
     "metadata": {},
     "output_type": "execute_result"
    }
   ],
   "source": [
    "df['Owned'].value_counts() # Value counts of Owned"
   ]
  },
  {
   "cell_type": "code",
   "execution_count": 19,
   "metadata": {},
   "outputs": [
    {
     "data": {
      "text/plain": [
       "Petrol          3594\n",
       "Diesel          1815\n",
       "Petrol + CNG      67\n",
       "Petrol + LPG       1\n",
       "Name: Fuel type, dtype: int64"
      ]
     },
     "execution_count": 19,
     "metadata": {},
     "output_type": "execute_result"
    }
   ],
   "source": [
    "df['Fuel type'].value_counts() # Value counts of Fuel type"
   ]
  },
  {
   "cell_type": "code",
   "execution_count": 20,
   "metadata": {},
   "outputs": [
    {
     "data": {
      "text/plain": [
       "Pune          434\n",
       "Mumbai        434\n",
       "Surat         301\n",
       "Ahmedabad     301\n",
       "Panipat       291\n",
       "Bengaluru     278\n",
       "Jaipur        273\n",
       "Vadodara      254\n",
       "Chennai       238\n",
       "Delhi         223\n",
       "Noida         223\n",
       "Ghaziabad     223\n",
       "Gurgaon       223\n",
       "Faridabad     223\n",
       "Rohtak        216\n",
       "Meerut        212\n",
       "Ludhiana      158\n",
       "Zirakpur      158\n",
       "Chandigarh    158\n",
       "Kolkata       128\n",
       "Indore        120\n",
       "Kochi         116\n",
       "Hyderabad      78\n",
       "Nagpur         72\n",
       "Nasik          59\n",
       "Lucknow        36\n",
       "Bhopal         26\n",
       "Rajkot         18\n",
       "Sonipat         3\n",
       "Name: City, dtype: int64"
      ]
     },
     "execution_count": 20,
     "metadata": {},
     "output_type": "execute_result"
    }
   ],
   "source": [
    "df['City'].value_counts() # Value counts of City"
   ]
  },
  {
   "cell_type": "code",
   "execution_count": 21,
   "metadata": {},
   "outputs": [
    {
     "data": {
      "text/html": [
       "<div>\n",
       "<style scoped>\n",
       "    .dataframe tbody tr th:only-of-type {\n",
       "        vertical-align: middle;\n",
       "    }\n",
       "\n",
       "    .dataframe tbody tr th {\n",
       "        vertical-align: top;\n",
       "    }\n",
       "\n",
       "    .dataframe thead th {\n",
       "        text-align: right;\n",
       "    }\n",
       "</style>\n",
       "<table border=\"1\" class=\"dataframe\">\n",
       "  <thead>\n",
       "    <tr style=\"text-align: right;\">\n",
       "      <th></th>\n",
       "      <th>Mileage</th>\n",
       "      <th>Price</th>\n",
       "      <th>Year</th>\n",
       "    </tr>\n",
       "  </thead>\n",
       "  <tbody>\n",
       "    <tr>\n",
       "      <td>count</td>\n",
       "      <td>5477.000000</td>\n",
       "      <td>5.477000e+03</td>\n",
       "      <td>5477.000000</td>\n",
       "    </tr>\n",
       "    <tr>\n",
       "      <td>mean</td>\n",
       "      <td>44113.693445</td>\n",
       "      <td>6.002194e+05</td>\n",
       "      <td>2016.742560</td>\n",
       "    </tr>\n",
       "    <tr>\n",
       "      <td>std</td>\n",
       "      <td>33967.515072</td>\n",
       "      <td>3.287099e+05</td>\n",
       "      <td>2.262011</td>\n",
       "    </tr>\n",
       "    <tr>\n",
       "      <td>min</td>\n",
       "      <td>120.000000</td>\n",
       "      <td>1.263990e+05</td>\n",
       "      <td>2008.000000</td>\n",
       "    </tr>\n",
       "    <tr>\n",
       "      <td>25%</td>\n",
       "      <td>19041.000000</td>\n",
       "      <td>3.972990e+05</td>\n",
       "      <td>2015.000000</td>\n",
       "    </tr>\n",
       "    <tr>\n",
       "      <td>50%</td>\n",
       "      <td>36035.000000</td>\n",
       "      <td>5.177990e+05</td>\n",
       "      <td>2017.000000</td>\n",
       "    </tr>\n",
       "    <tr>\n",
       "      <td>75%</td>\n",
       "      <td>62462.000000</td>\n",
       "      <td>7.054990e+05</td>\n",
       "      <td>2018.000000</td>\n",
       "    </tr>\n",
       "    <tr>\n",
       "      <td>max</td>\n",
       "      <td>277105.000000</td>\n",
       "      <td>2.868999e+06</td>\n",
       "      <td>2021.000000</td>\n",
       "    </tr>\n",
       "  </tbody>\n",
       "</table>\n",
       "</div>"
      ],
      "text/plain": [
       "             Mileage         Price         Year\n",
       "count    5477.000000  5.477000e+03  5477.000000\n",
       "mean    44113.693445  6.002194e+05  2016.742560\n",
       "std     33967.515072  3.287099e+05     2.262011\n",
       "min       120.000000  1.263990e+05  2008.000000\n",
       "25%     19041.000000  3.972990e+05  2015.000000\n",
       "50%     36035.000000  5.177990e+05  2017.000000\n",
       "75%     62462.000000  7.054990e+05  2018.000000\n",
       "max    277105.000000  2.868999e+06  2021.000000"
      ]
     },
     "execution_count": 21,
     "metadata": {},
     "output_type": "execute_result"
    }
   ],
   "source": [
    "df.describe() # Cheking some basic stats about our data"
   ]
  },
  {
   "cell_type": "markdown",
   "metadata": {},
   "source": [
    "Minimum Mileage 120 km; Maximum Mileage 277105 km\n",
    "\n",
    "Oldest car: 2008; Newest car: 2021\n",
    "\n",
    "Minimum price: Rs. 126,000; Maximum price of car: Rs. 23,220,000"
   ]
  },
  {
   "cell_type": "markdown",
   "metadata": {},
   "source": [
    "# Exploratory Data Analysis"
   ]
  },
  {
   "cell_type": "code",
   "execution_count": 22,
   "metadata": {},
   "outputs": [
    {
     "data": {
      "image/png": "[encoded data removed]",
      "text/plain": [
       "<Figure size 1440x720 with 1 Axes>"
      ]
     },
     "metadata": {
      "needs_background": "light"
     },
     "output_type": "display_data"
    }
   ],
   "source": [
    "# Looking at distribution of selling price of car, which is our target variable.\n",
    "# We can observe that the distribution is right skewed\n",
    "\n",
    "df['Price'].hist(bins=100,figsize=(20,10),rwidth = 0.75)\n",
    "plt.ticklabel_format(style='plain', axis='x')\n",
    "plt.title('Car Prices')\n",
    "plt.show()"
   ]
  },
  {
   "cell_type": "code",
   "execution_count": 23,
   "metadata": {},
   "outputs": [
    {
     "data": {
      "text/plain": [
       "<matplotlib.axes._subplots.AxesSubplot at 0x2dbc4efb648>"
      ]
     },
     "execution_count": 23,
     "metadata": {},
     "output_type": "execute_result"
    },
    {
     "data": {
      "image/png": "[encoded data removed]",
      "text/plain": [
       "<Figure size 432x288 with 1 Axes>"
      ]
     },
     "metadata": {
      "needs_background": "light"
     },
     "output_type": "display_data"
    }
   ],
   "source": [
    "sns.histplot(df['Mileage'],bins = 100 , kde = True, color = 'green') # Most of the mileage of cars is less that 200,000 km"
   ]
  },
  {
   "cell_type": "code",
   "execution_count": 24,
   "metadata": {},
   "outputs": [
    {
     "data": {
      "text/plain": [
       "<matplotlib.axes._subplots.AxesSubplot at 0x2dbc4e42588>"
      ]
     },
     "execution_count": 24,
     "metadata": {},
     "output_type": "execute_result"
    },
    {
     "data": {
      "image/png": "[encoded data removed]",
      "text/plain": [
       "<Figure size 432x288 with 1 Axes>"
      ]
     },
     "metadata": {
      "needs_background": "light"
     },
     "output_type": "display_data"
    }
   ],
   "source": [
    "sns.histplot(df['Year'],bins = 100 , kde = True, color = 'green') # Most of the flight prices range from 2000-20000"
   ]
  },
  {
   "cell_type": "markdown",
   "metadata": {},
   "source": [
    "We can see that most of the cars in this data were bought between 2015 and 2020"
   ]
  },
  {
   "cell_type": "code",
   "execution_count": 25,
   "metadata": {
    "scrolled": true
   },
   "outputs": [
    {
     "data": {
      "image/png": "[encoded data removed]",
      "text/plain": [
       "<Figure size 864x576 with 1 Axes>"
      ]
     },
     "metadata": {
      "needs_background": "light"
     },
     "output_type": "display_data"
    }
   ],
   "source": [
    "df_2 = df.groupby('Year').mean()\n",
    "df_2.reset_index(inplace=True)\n",
    "fig, ax = plt.subplots(figsize=(12, 8))\n",
    "sns.barplot(x='Year', y='Price', data=df_2,ax=ax);"
   ]
  },
  {
   "cell_type": "markdown",
   "metadata": {},
   "source": [
    "Average price of car vs year; we can see the average price of car increases if the car is not very old."
   ]
  },
  {
   "cell_type": "code",
   "execution_count": 26,
   "metadata": {},
   "outputs": [
    {
     "data": {
      "image/png": "[encoded data removed]",
      "text/plain": [
       "<Figure size 864x576 with 1 Axes>"
      ]
     },
     "metadata": {
      "needs_background": "light"
     },
     "output_type": "display_data"
    }
   ],
   "source": [
    "df_2 = df.groupby('Year').mean()\n",
    "df_2.reset_index(inplace=True)\n",
    "fig, ax = plt.subplots(figsize=(12, 8))\n",
    "sns.barplot(x='Year', y='Mileage', data=df_2,ax=ax);"
   ]
  },
  {
   "cell_type": "markdown",
   "metadata": {},
   "source": [
    "Average mileage in km on a car, based on the year the car was manufactured; we can observe that the mileage is more for older cars; as expected."
   ]
  },
  {
   "cell_type": "code",
   "execution_count": 27,
   "metadata": {},
   "outputs": [
    {
     "data": {
      "image/png": "[encoded data removed]",
      "text/plain": [
       "<Figure size 576x864 with 1 Axes>"
      ]
     },
     "metadata": {
      "needs_background": "light"
     },
     "output_type": "display_data"
    }
   ],
   "source": [
    "f,ax1 = plt.subplots(figsize = (8,12))\n",
    "sns.pointplot(y = df.City, x = df['Price'], join=True, data= df )\n",
    "plt.xticks(rotation = 90)\n",
    "plt.title(\"Cost of car per city\",{'fontsize':20})\n",
    "plt.xlabel('Average price in INR',{'fontsize' : 'large'})\n",
    "plt.ylabel('City name',{'fontsize':'large'})\n",
    "plt.show()"
   ]
  },
  {
   "cell_type": "markdown",
   "metadata": {},
   "source": [
    "Average price of car according to city in which it was listed. Bhopal has the most expensive cars and Kochi has the least expensive cars."
   ]
  },
  {
   "cell_type": "code",
   "execution_count": 28,
   "metadata": {},
   "outputs": [
    {
     "data": {
      "image/png": "[encoded data removed]",
      "text/plain": [
       "<Figure size 576x864 with 1 Axes>"
      ]
     },
     "metadata": {
      "needs_background": "light"
     },
     "output_type": "display_data"
    }
   ],
   "source": [
    "f,ax1 = plt.subplots(figsize = (8,12))\n",
    "sns.pointplot(y = df.City, x = df['Mileage'], join=True, data= df )\n",
    "plt.xticks(rotation = 90)\n",
    "plt.title(\"Mileage per city\",{'fontsize':20})\n",
    "plt.xlabel('Average mileage in km',{'fontsize' : 'large'})\n",
    "plt.ylabel('City name',{'fontsize':'large'})\n",
    "plt.show()"
   ]
  },
  {
   "cell_type": "markdown",
   "metadata": {},
   "source": [
    "Average mileage of car (in km) according to city in which it was listed. Ludhiiana has the most driven cars and Mysore has the least driven cars."
   ]
  },
  {
   "cell_type": "markdown",
   "metadata": {},
   "source": [
    "Checking the data for some cars"
   ]
  },
  {
   "cell_type": "code",
   "execution_count": 29,
   "metadata": {},
   "outputs": [
    {
     "data": {
      "text/plain": [
       "Mileage    1892\n",
       "dtype: int64"
      ]
     },
     "execution_count": 29,
     "metadata": {},
     "output_type": "execute_result"
    }
   ],
   "source": [
    "df[['Mileage']].idxmax() # Which df index has maximum mileage"
   ]
  },
  {
   "cell_type": "code",
   "execution_count": 30,
   "metadata": {},
   "outputs": [
    {
     "data": {
      "text/plain": [
       "Name                  Maruti Alto K10\n",
       "Transmission type              Manual\n",
       "Variant                          VXI \n",
       "Mileage                         11402\n",
       "Owned                       1st Owner\n",
       "Fuel type                      Petrol\n",
       "City                        Hyderabad\n",
       "Price                          382799\n",
       "Year                             2019\n",
       "Manufacturer                   Maruti\n",
       "Model                            Alto\n",
       "Name: 1879, dtype: object"
      ]
     },
     "execution_count": 30,
     "metadata": {},
     "output_type": "execute_result"
    }
   ],
   "source": [
    "df.iloc[1879] # This car has max mileage"
   ]
  },
  {
   "cell_type": "code",
   "execution_count": 31,
   "metadata": {},
   "outputs": [
    {
     "data": {
      "text/plain": [
       "Price    58\n",
       "dtype: int64"
      ]
     },
     "execution_count": 31,
     "metadata": {},
     "output_type": "execute_result"
    }
   ],
   "source": [
    "df[['Price']].idxmax() # Which df index has maximum price"
   ]
  },
  {
   "cell_type": "code",
   "execution_count": 32,
   "metadata": {},
   "outputs": [
    {
     "data": {
      "text/plain": [
       "Name                  Maruti Swift\n",
       "Transmission type           Manual\n",
       "Variant                       VDI \n",
       "Mileage                     120326\n",
       "Owned                    2nd Owner\n",
       "Fuel type                   Diesel\n",
       "City                        Rohtak\n",
       "Price                       303999\n",
       "Year                          2012\n",
       "Manufacturer                Maruti\n",
       "Model                        Swift\n",
       "Name: 72, dtype: object"
      ]
     },
     "execution_count": 32,
     "metadata": {},
     "output_type": "execute_result"
    }
   ],
   "source": [
    "df.iloc[72] # This car has max price"
   ]
  },
  {
   "cell_type": "code",
   "execution_count": 33,
   "metadata": {},
   "outputs": [
    {
     "data": {
      "text/plain": [
       "Price    129\n",
       "dtype: int64"
      ]
     },
     "execution_count": 33,
     "metadata": {},
     "output_type": "execute_result"
    }
   ],
   "source": [
    "df[['Price']].idxmin() # Which df index has minimum price"
   ]
  },
  {
   "cell_type": "code",
   "execution_count": 34,
   "metadata": {},
   "outputs": [
    {
     "data": {
      "text/plain": [
       "Name                  Maruti Vitara Brezza\n",
       "Transmission type                   Manual\n",
       "Variant                               ZDI \n",
       "Mileage                              35429\n",
       "Owned                            1st Owner\n",
       "Fuel type                           Diesel\n",
       "City                                Rohtak\n",
       "Price                               749599\n",
       "Year                                  2017\n",
       "Manufacturer                        Maruti\n",
       "Model                               Vitara\n",
       "Name: 36, dtype: object"
      ]
     },
     "execution_count": 34,
     "metadata": {},
     "output_type": "execute_result"
    }
   ],
   "source": [
    "df.iloc[36] # This car has min price"
   ]
  },
  {
   "cell_type": "code",
   "execution_count": 35,
   "metadata": {},
   "outputs": [
    {
     "data": {
      "text/plain": [
       "Mileage    1666\n",
       "dtype: int64"
      ]
     },
     "execution_count": 35,
     "metadata": {},
     "output_type": "execute_result"
    }
   ],
   "source": [
    "df[['Mileage']].idxmin() # Which df index has minimum mileage"
   ]
  },
  {
   "cell_type": "code",
   "execution_count": 36,
   "metadata": {},
   "outputs": [
    {
     "data": {
      "text/plain": [
       "Name                       Honda Brio\n",
       "Transmission type              Manual\n",
       "Variant              1.2 S MT I VTEC \n",
       "Mileage                         41406\n",
       "Owned                       1st Owner\n",
       "Fuel type                      Petrol\n",
       "City                             Pune\n",
       "Price                          367199\n",
       "Year                             2015\n",
       "Manufacturer                    Honda\n",
       "Model                            Brio\n",
       "Name: 1247, dtype: object"
      ]
     },
     "execution_count": 36,
     "metadata": {},
     "output_type": "execute_result"
    }
   ],
   "source": [
    "df.iloc[1247] # This car has min mileage"
   ]
  },
  {
   "cell_type": "markdown",
   "metadata": {},
   "source": [
    "# Pre-processing data"
   ]
  },
  {
   "cell_type": "code",
   "execution_count": 37,
   "metadata": {},
   "outputs": [
    {
     "data": {
      "text/plain": [
       "Name                  108\n",
       "Transmission type       2\n",
       "Variant               504\n",
       "Mileage              2406\n",
       "Owned                   4\n",
       "Fuel type               4\n",
       "City                   29\n",
       "Price                2062\n",
       "Year                   14\n",
       "Manufacturer           20\n",
       "Model                  94\n",
       "dtype: int64"
      ]
     },
     "execution_count": 37,
     "metadata": {},
     "output_type": "execute_result"
    }
   ],
   "source": [
    "df.nunique() # Now to simplify the data"
   ]
  },
  {
   "cell_type": "code",
   "execution_count": 38,
   "metadata": {},
   "outputs": [
    {
     "data": {
      "text/plain": [
       "Maruti        3048\n",
       "Hyundai       1128\n",
       "Ford           355\n",
       "Honda          231\n",
       "Toyota         176\n",
       "Renault        122\n",
       "Volkswagen      97\n",
       "Tata            63\n",
       "Mahindra        62\n",
       "KIA             39\n",
       "Skoda           26\n",
       "Audi            26\n",
       "Datsun          23\n",
       "BMW             22\n",
       "MG              20\n",
       "Mercedes        18\n",
       "Jeep            13\n",
       "Nissan           4\n",
       "Landrover        3\n",
       "RENAULT          1\n",
       "Name: Manufacturer, dtype: int64"
      ]
     },
     "execution_count": 38,
     "metadata": {},
     "output_type": "execute_result"
    }
   ],
   "source": [
    "df['Manufacturer'].value_counts() # We have a lot of manufacturers"
   ]
  },
  {
   "cell_type": "markdown",
   "metadata": {},
   "source": [
    "Now I will simplify the engine size and convert it to a range, I will also convert various variants of engine to get a better description."
   ]
  },
  {
   "cell_type": "code",
   "execution_count": 39,
   "metadata": {},
   "outputs": [],
   "source": [
    "df.loc[df['Variant'].str.contains('LXI', case=False), 'Variant'] = 'Basic Petrol'\n",
    "df.loc[df['Variant'].str.contains('VXI', case=False), 'Variant'] = 'Middle Petrol'\n",
    "df.loc[df['Variant'].str.contains('ZXI', case=False), 'Variant'] = 'Top Petrol'\n",
    "\n",
    "df.loc[df['Variant'].str.contains('VDI', case=False), 'Variant'] = 'Basic Diesel'\n",
    "df.loc[df['Variant'].str.contains('VDI', case=False), 'Variant'] = 'Middle Diesel'\n",
    "df.loc[df['Variant'].str.contains('ZDI', case=False), 'Variant'] = 'Top Diesel'\n",
    "\n",
    "df.loc[df['Variant'].str.contains('LUXURY', case=False), 'Variant'] = 'Luxury'\n",
    "\n",
    "df.loc[df['Variant'].str.contains('1.0', case=False), 'Variant'] = '1.0-1.5 Liter'\n",
    "df.loc[df['Variant'].str.contains('1.1', case=False), 'Variant'] = '1.0-1.5 Liter'\n",
    "df.loc[df['Variant'].str.contains('1.2', case=False), 'Variant'] = '1.0-1.5 Liter'\n",
    "df.loc[df['Variant'].str.contains('1.3', case=False), 'Variant'] = '1.0-1.5 Liter'\n",
    "df.loc[df['Variant'].str.contains('1.4', case=False), 'Variant'] = '1.0-1.5 Liter'\n",
    "df.loc[df['Variant'].str.contains('1.5', case=False), 'Variant'] = '1.0-1.5 Liter'\n",
    "df.loc[df['Variant'].str.contains('1.6', case=False), 'Variant'] = '1.5-2.0 Liter'\n",
    "df.loc[df['Variant'].str.contains('1.7', case=False), 'Variant'] = '1.5-2.0 Liter'\n",
    "df.loc[df['Variant'].str.contains('1.8', case=False), 'Variant'] = '1.5-2.0 Liter'\n",
    "df.loc[df['Variant'].str.contains('1.9', case=False), 'Variant'] = '1.5-2.0 Liter'\n",
    "df.loc[df['Variant'].str.contains('2.0', case=False), 'Variant'] = '1.5-2.0 Liter'\n",
    "df.loc[df['Variant'].str.contains('2.1', case=False), 'Variant'] = '2.0+ Liter'\n",
    "df.loc[df['Variant'].str.contains('2.2', case=False), 'Variant'] = '2.0+ Liter'\n",
    "df.loc[df['Variant'].str.contains('2.3', case=False), 'Variant'] = '2.0+ Liter'\n",
    "df.loc[df['Variant'].str.contains('2.4', case=False), 'Variant'] = '2.0+ Liter'\n",
    "df.loc[df['Variant'].str.contains('2.5', case=False), 'Variant'] = '2.0+ Liter'\n",
    "df.loc[df['Variant'].str.contains('2.6', case=False), 'Variant'] = '2.0+ Liter'\n",
    "df.loc[df['Variant'].str.contains('2.7', case=False), 'Variant'] = '2.0+ Liter'\n",
    "df.loc[df['Variant'].str.contains('2.8', case=False), 'Variant'] = '2.0+ Liter'\n",
    "df.loc[df['Variant'].str.contains('2.9', case=False), 'Variant'] = '2.0+ Liter'\n",
    "df.loc[df['Variant'].str.contains('3.0', case=False), 'Variant'] = '2.0+ Liter'\n",
    "df.loc[df['Variant'].str.contains('3.1', case=False), 'Variant'] = '2.0+ Liter'\n",
    "df.loc[df['Variant'].str.contains('3.2', case=False), 'Variant'] = '2.0+ Liter'\n",
    "df.loc[df['Variant'].str.contains('3.3', case=False), 'Variant'] = '2.0+ Liter'\n",
    "df.loc[df['Variant'].str.contains('3.4', case=False), 'Variant'] = '2.0+ Liter'\n",
    "df.loc[df['Variant'].str.contains('3.5', case=False), 'Variant'] = '2.0+ Liter'\n",
    "\n",
    "df.loc[df['Variant'].str.contains('5 STR WITH AC PLUSHTR', case=False), 'Variant'] = '1.0-1.5 Liter'\n",
    "df.loc[df['Variant'].str.contains('RXL', case=False), 'Variant'] = '1.0-1.5 Liter'\n",
    "df.loc[df['Variant'].str.contains('V MT PETROL', case=False), 'Variant'] = '1.0-1.5 Liter'\n",
    "df.loc[df['Variant'].str.contains('ERA PLUS', case=False), 'Variant'] = '1.0-1.5 Liter'"
   ]
  },
  {
   "cell_type": "code",
   "execution_count": 40,
   "metadata": {},
   "outputs": [],
   "source": [
    "df.loc[df.groupby('Variant').Variant.transform('count').lt(20), 'Variant'] = 'Other' \n",
    "\n",
    "# Combining variants as Other which have less than 20 value counts to simplify the data"
   ]
  },
  {
   "cell_type": "code",
   "execution_count": 41,
   "metadata": {},
   "outputs": [
    {
     "data": {
      "text/plain": [
       "1.0-1.5 Liter    2240\n",
       "Middle Petrol     898\n",
       "Basic Diesel      561\n",
       "Other             524\n",
       "Basic Petrol      484\n",
       "Top Diesel        280\n",
       "1.5-2.0 Liter     238\n",
       "2.0+ Liter        128\n",
       "Top Petrol        124\n",
       "Name: Variant, dtype: int64"
      ]
     },
     "execution_count": 41,
     "metadata": {},
     "output_type": "execute_result"
    }
   ],
   "source": [
    "df['Variant'].value_counts()"
   ]
  },
  {
   "cell_type": "code",
   "execution_count": 42,
   "metadata": {},
   "outputs": [
    {
     "data": {
      "text/plain": [
       "Alto        768\n",
       "Swift       715\n",
       "Baleno      372\n",
       "Vitara      348\n",
       "Ecosport    305\n",
       "           ... \n",
       "Octavia       1\n",
       "Terrano       1\n",
       "Sunny         1\n",
       "CRV           1\n",
       "ALTROZ        1\n",
       "Name: Model, Length: 94, dtype: int64"
      ]
     },
     "execution_count": 42,
     "metadata": {},
     "output_type": "execute_result"
    }
   ],
   "source": [
    "df['Model'].value_counts() # We have 91 different car models"
   ]
  },
  {
   "cell_type": "code",
   "execution_count": 43,
   "metadata": {},
   "outputs": [
    {
     "data": {
      "text/plain": [
       " Maruti Swift            531\n",
       " Maruti Baleno           372\n",
       " Maruti Vitara Brezza    348\n",
       " Maruti Alto 800         323\n",
       " Ford Ecosport           305\n",
       "                        ... \n",
       " Tata ALTROZ               1\n",
       " Honda CRV                 1\n",
       " Nissan Terrano            1\n",
       " Maruti Zen Estilo         1\n",
       " Datsun Go Plus            1\n",
       "Name: Name, Length: 108, dtype: int64"
      ]
     },
     "execution_count": 43,
     "metadata": {},
     "output_type": "execute_result"
    }
   ],
   "source": [
    "df['Name'].value_counts() # We have 107 different names"
   ]
  },
  {
   "cell_type": "code",
   "execution_count": 44,
   "metadata": {},
   "outputs": [],
   "source": [
    "df.drop(['Name'], axis = 1, inplace = True) # Dropping the name columns as I have already separated it into 'Name' and 'Model'"
   ]
  },
  {
   "cell_type": "markdown",
   "metadata": {},
   "source": [
    "# EDA"
   ]
  },
  {
   "cell_type": "code",
   "execution_count": 45,
   "metadata": {},
   "outputs": [
    {
     "data": {
      "image/png": "[encoded data removed]",
      "text/plain": [
       "<Figure size 1440x576 with 2 Axes>"
      ]
     },
     "metadata": {
      "needs_background": "light"
     },
     "output_type": "display_data"
    }
   ],
   "source": [
    "plt.figure(figsize=(20,8))\n",
    "\n",
    "plt.subplot(1,2,1)\n",
    "plt.title('Engine Type Histogram')\n",
    "plt.xticks(rotation=45)\n",
    "sns.countplot(df.Variant, palette=(\"Blues_d\"))\n",
    "plt.ticklabel_format(style='plain', axis='y')\n",
    "plt.subplot(1,2,2)\n",
    "plt.title('Engine Type vs Price')\n",
    "sns.boxplot(x=df.Variant, y=df.Price, palette=(\"PuBuGn\"))\n",
    "\n",
    "plt.xticks(rotation=45)\n",
    "plt.ticklabel_format(style='plain', axis='y')\n",
    "plt.show()"
   ]
  },
  {
   "cell_type": "markdown",
   "metadata": {},
   "source": [
    "Count plot and price plot according to the cars engine variant"
   ]
  },
  {
   "cell_type": "code",
   "execution_count": 46,
   "metadata": {},
   "outputs": [
    {
     "data": {
      "image/png": "[encoded data removed]",
      "text/plain": [
       "<Figure size 432x288 with 1 Axes>"
      ]
     },
     "metadata": {
      "needs_background": "light"
     },
     "output_type": "display_data"
    }
   ],
   "source": [
    "df_fuel = pd.DataFrame(df.groupby(['Fuel type'])['Price'].mean().sort_values(ascending = False))\n",
    "df_fuel.plot.bar()\n",
    "plt.ticklabel_format(style='plain', axis='y')\n",
    "plt.title('Fuel Type vs Average Price')\n",
    "plt.show()"
   ]
  },
  {
   "cell_type": "markdown",
   "metadata": {},
   "source": [
    "Average price of car with respect to the fuel type. Diesel is most evpensive, then petrol, least expensive is Petrol + LPG"
   ]
  },
  {
   "cell_type": "code",
   "execution_count": 47,
   "metadata": {},
   "outputs": [
    {
     "data": {
      "text/html": [
       "<div>\n",
       "<style scoped>\n",
       "    .dataframe tbody tr th:only-of-type {\n",
       "        vertical-align: middle;\n",
       "    }\n",
       "\n",
       "    .dataframe tbody tr th {\n",
       "        vertical-align: top;\n",
       "    }\n",
       "\n",
       "    .dataframe thead th {\n",
       "        text-align: right;\n",
       "    }\n",
       "</style>\n",
       "<table border=\"1\" class=\"dataframe\">\n",
       "  <thead>\n",
       "    <tr style=\"text-align: right;\">\n",
       "      <th></th>\n",
       "      <th>Transmission type</th>\n",
       "      <th>Variant</th>\n",
       "      <th>Mileage</th>\n",
       "      <th>Owned</th>\n",
       "      <th>Fuel type</th>\n",
       "      <th>City</th>\n",
       "      <th>Price</th>\n",
       "      <th>Year</th>\n",
       "      <th>Manufacturer</th>\n",
       "      <th>Model</th>\n",
       "    </tr>\n",
       "  </thead>\n",
       "  <tbody>\n",
       "    <tr>\n",
       "      <td>0</td>\n",
       "      <td>Manual</td>\n",
       "      <td>Basic Diesel</td>\n",
       "      <td>69894</td>\n",
       "      <td>1st Owner</td>\n",
       "      <td>Diesel</td>\n",
       "      <td>Rohtak</td>\n",
       "      <td>474699</td>\n",
       "      <td>2017</td>\n",
       "      <td>Maruti</td>\n",
       "      <td>Swift</td>\n",
       "    </tr>\n",
       "    <tr>\n",
       "      <td>1</td>\n",
       "      <td>Manual</td>\n",
       "      <td>Middle Petrol</td>\n",
       "      <td>20685</td>\n",
       "      <td>2nd Owner</td>\n",
       "      <td>Petrol</td>\n",
       "      <td>Rohtak</td>\n",
       "      <td>356699</td>\n",
       "      <td>2017</td>\n",
       "      <td>Maruti</td>\n",
       "      <td>Wagon</td>\n",
       "    </tr>\n",
       "    <tr>\n",
       "      <td>2</td>\n",
       "      <td>Manual</td>\n",
       "      <td>Basic Diesel</td>\n",
       "      <td>31245</td>\n",
       "      <td>1st Owner</td>\n",
       "      <td>Diesel</td>\n",
       "      <td>Rohtak</td>\n",
       "      <td>798699</td>\n",
       "      <td>2019</td>\n",
       "      <td>Maruti</td>\n",
       "      <td>Vitara</td>\n",
       "    </tr>\n",
       "    <tr>\n",
       "      <td>3</td>\n",
       "      <td>Manual</td>\n",
       "      <td>Basic Diesel</td>\n",
       "      <td>71450</td>\n",
       "      <td>2nd Owner</td>\n",
       "      <td>Diesel</td>\n",
       "      <td>Rohtak</td>\n",
       "      <td>330599</td>\n",
       "      <td>2014</td>\n",
       "      <td>Maruti</td>\n",
       "      <td>Swift</td>\n",
       "    </tr>\n",
       "    <tr>\n",
       "      <td>4</td>\n",
       "      <td>Manual</td>\n",
       "      <td>Basic Diesel</td>\n",
       "      <td>39487</td>\n",
       "      <td>1st Owner</td>\n",
       "      <td>Diesel</td>\n",
       "      <td>Rohtak</td>\n",
       "      <td>491299</td>\n",
       "      <td>2013</td>\n",
       "      <td>Maruti</td>\n",
       "      <td>Ertiga</td>\n",
       "    </tr>\n",
       "  </tbody>\n",
       "</table>\n",
       "</div>"
      ],
      "text/plain": [
       "  Transmission type        Variant  Mileage      Owned Fuel type    City  \\\n",
       "0            Manual   Basic Diesel    69894  1st Owner    Diesel  Rohtak   \n",
       "1            Manual  Middle Petrol    20685  2nd Owner    Petrol  Rohtak   \n",
       "2            Manual   Basic Diesel    31245  1st Owner    Diesel  Rohtak   \n",
       "3            Manual   Basic Diesel    71450  2nd Owner    Diesel  Rohtak   \n",
       "4            Manual   Basic Diesel    39487  1st Owner    Diesel  Rohtak   \n",
       "\n",
       "    Price  Year Manufacturer   Model  \n",
       "0  474699  2017       Maruti   Swift  \n",
       "1  356699  2017       Maruti   Wagon  \n",
       "2  798699  2019       Maruti  Vitara  \n",
       "3  330599  2014       Maruti   Swift  \n",
       "4  491299  2013       Maruti  Ertiga  "
      ]
     },
     "execution_count": 47,
     "metadata": {},
     "output_type": "execute_result"
    }
   ],
   "source": [
    "df.head()"
   ]
  },
  {
   "cell_type": "code",
   "execution_count": 48,
   "metadata": {},
   "outputs": [
    {
     "data": {
      "image/png": "[encoded data removed]",
      "text/plain": [
       "<Figure size 432x288 with 1 Axes>"
      ]
     },
     "metadata": {
      "needs_background": "light"
     },
     "output_type": "display_data"
    }
   ],
   "source": [
    "df_trans = pd.DataFrame(df.groupby(['Transmission type'])['Price'].mean().sort_values(ascending = False))\n",
    "df_trans.plot.bar()\n",
    "plt.ticklabel_format(style='plain', axis='y')\n",
    "plt.title('Transmission Type vs Average Price')\n",
    "plt.show()"
   ]
  },
  {
   "cell_type": "markdown",
   "metadata": {},
   "source": [
    "As expected cars which have automatic transmission are on average priced above Rs. 80,000 and cars which have manual transmission are on average price around Rs 50,000"
   ]
  },
  {
   "cell_type": "code",
   "execution_count": 49,
   "metadata": {},
   "outputs": [
    {
     "data": {
      "image/png": "[encoded data removed]",
      "text/plain": [
       "<Figure size 432x288 with 1 Axes>"
      ]
     },
     "metadata": {
      "needs_background": "light"
     },
     "output_type": "display_data"
    }
   ],
   "source": [
    "df_ownd = pd.DataFrame(df.groupby(['Owned'])['Price'].mean().sort_values(ascending = False))\n",
    "df_ownd.plot.bar()\n",
    "plt.ticklabel_format(style='plain', axis='y')\n",
    "plt.title('Number of previous owners vs Average Price')\n",
    "plt.show()"
   ]
  },
  {
   "cell_type": "markdown",
   "metadata": {},
   "source": [
    "We can observe that as number of owners go up, the average price of car decreases, this is what one would expect."
   ]
  },
  {
   "cell_type": "code",
   "execution_count": 50,
   "metadata": {},
   "outputs": [
    {
     "data": {
      "image/png": "[encoded data removed]",
      "text/plain": [
       "<Figure size 432x288 with 1 Axes>"
      ]
     },
     "metadata": {
      "needs_background": "light"
     },
     "output_type": "display_data"
    }
   ],
   "source": [
    "df_vrnt = pd.DataFrame(df.groupby(['Variant'])['Price'].mean().sort_values(ascending = False))\n",
    "df_vrnt.plot.bar()\n",
    "\n",
    "plt.title('Engine Type vs Average Price')\n",
    "plt.ticklabel_format(style='plain', axis='y')\n",
    "plt.show()"
   ]
  },
  {
   "cell_type": "markdown",
   "metadata": {},
   "source": [
    "We can see that 2 liter engine is the most common engine size."
   ]
  },
  {
   "cell_type": "markdown",
   "metadata": {},
   "source": [
    "# Multi variate analysis"
   ]
  },
  {
   "cell_type": "code",
   "execution_count": 51,
   "metadata": {},
   "outputs": [
    {
     "data": {
      "text/plain": [
       "<Figure size 1080x1080 with 0 Axes>"
      ]
     },
     "metadata": {},
     "output_type": "display_data"
    },
    {
     "data": {
      "image/png": "[encoded data removed]",
      "text/plain": [
       "<Figure size 540x540 with 12 Axes>"
      ]
     },
     "metadata": {
      "needs_background": "light"
     },
     "output_type": "display_data"
    }
   ],
   "source": [
    "plt.figure(figsize=(15,15))\n",
    "sns.pairplot(df)\n",
    "plt.ticklabel_format(style='plain', axis='y')\n",
    "plt.show()"
   ]
  },
  {
   "cell_type": "code",
   "execution_count": 52,
   "metadata": {},
   "outputs": [
    {
     "data": {
      "image/png": "[encoded data removed]",
      "text/plain": [
       "<Figure size 864x864 with 2 Axes>"
      ]
     },
     "metadata": {
      "needs_background": "light"
     },
     "output_type": "display_data"
    }
   ],
   "source": [
    "plt.figure(figsize=(12,12)) # Co-relation heat map\n",
    "sns.heatmap(df.corr(),linewidths=.1,cmap=\"YlGnBu\", annot=True)\n",
    "plt.yticks(rotation=0); # Checkign co-relation"
   ]
  },
  {
   "cell_type": "code",
   "execution_count": 53,
   "metadata": {},
   "outputs": [],
   "source": [
    "df.loc[df.groupby('Model').Variant.transform('count').lt(20), 'Variant'] = 'Other'  \n",
    "# If less that 20 count, Model is renamed to 'Other'"
   ]
  },
  {
   "cell_type": "code",
   "execution_count": 54,
   "metadata": {},
   "outputs": [],
   "source": [
    "# Defining the map function\n",
    "def dummies(x,df):\n",
    "    temp = pd.get_dummies(df[x], drop_first = True)\n",
    "    df = pd.concat([df, temp], axis = 1)\n",
    "    df.drop([x], axis = 1, inplace = True)\n",
    "    return df\n",
    "# Applying the function to the df\n",
    "\n",
    "df = dummies('Transmission type',df)\n",
    "df = dummies('Variant',df)\n",
    "df = dummies('Owned',df)\n",
    "df = dummies('Fuel type',df)\n",
    "df = dummies('City',df)\n",
    "df = dummies('Manufacturer',df)\n",
    "df = dummies('Model',df)"
   ]
  },
  {
   "cell_type": "code",
   "execution_count": 55,
   "metadata": {},
   "outputs": [
    {
     "data": {
      "text/html": [
       "<div>\n",
       "<style scoped>\n",
       "    .dataframe tbody tr th:only-of-type {\n",
       "        vertical-align: middle;\n",
       "    }\n",
       "\n",
       "    .dataframe tbody tr th {\n",
       "        vertical-align: top;\n",
       "    }\n",
       "\n",
       "    .dataframe thead th {\n",
       "        text-align: right;\n",
       "    }\n",
       "</style>\n",
       "<table border=\"1\" class=\"dataframe\">\n",
       "  <thead>\n",
       "    <tr style=\"text-align: right;\">\n",
       "      <th></th>\n",
       "      <th>Mileage</th>\n",
       "      <th>Price</th>\n",
       "      <th>Year</th>\n",
       "      <th>Manual</th>\n",
       "      <th>1.5-2.0 Liter</th>\n",
       "      <th>2.0+ Liter</th>\n",
       "      <th>Basic Diesel</th>\n",
       "      <th>Basic Petrol</th>\n",
       "      <th>Middle Petrol</th>\n",
       "      <th>Other</th>\n",
       "      <th>Top Diesel</th>\n",
       "      <th>Top Petrol</th>\n",
       "      <th>2nd Owner</th>\n",
       "      <th>3rd Owner</th>\n",
       "      <th>4th Owner</th>\n",
       "      <th>Petrol</th>\n",
       "      <th>Petrol + CNG</th>\n",
       "      <th>Petrol + LPG</th>\n",
       "      <th>Bengaluru</th>\n",
       "      <th>Bhopal</th>\n",
       "      <th>Chandigarh</th>\n",
       "      <th>Chennai</th>\n",
       "      <th>Delhi</th>\n",
       "      <th>Faridabad</th>\n",
       "      <th>Ghaziabad</th>\n",
       "      <th>Gurgaon</th>\n",
       "      <th>Hyderabad</th>\n",
       "      <th>Indore</th>\n",
       "      <th>Jaipur</th>\n",
       "      <th>Kochi</th>\n",
       "      <th>Kolkata</th>\n",
       "      <th>Lucknow</th>\n",
       "      <th>Ludhiana</th>\n",
       "      <th>Meerut</th>\n",
       "      <th>Mumbai</th>\n",
       "      <th>Nagpur</th>\n",
       "      <th>Nasik</th>\n",
       "      <th>Noida</th>\n",
       "      <th>Panipat</th>\n",
       "      <th>Pune</th>\n",
       "      <th>Rajkot</th>\n",
       "      <th>Rohtak</th>\n",
       "      <th>Sonipat</th>\n",
       "      <th>Surat</th>\n",
       "      <th>Vadodara</th>\n",
       "      <th>Zirakpur</th>\n",
       "      <th>BMW</th>\n",
       "      <th>Datsun</th>\n",
       "      <th>Ford</th>\n",
       "      <th>Honda</th>\n",
       "      <th>Hyundai</th>\n",
       "      <th>Jeep</th>\n",
       "      <th>KIA</th>\n",
       "      <th>Landrover</th>\n",
       "      <th>MG</th>\n",
       "      <th>Mahindra</th>\n",
       "      <th>Maruti</th>\n",
       "      <th>Mercedes</th>\n",
       "      <th>Nissan</th>\n",
       "      <th>RENAULT</th>\n",
       "      <th>Renault</th>\n",
       "      <th>Skoda</th>\n",
       "      <th>Tata</th>\n",
       "      <th>Toyota</th>\n",
       "      <th>Volkswagen</th>\n",
       "      <th>A</th>\n",
       "      <th>A3</th>\n",
       "      <th>A4</th>\n",
       "      <th>ALTROZ</th>\n",
       "      <th>AURA</th>\n",
       "      <th>Alto</th>\n",
       "      <th>Amaze</th>\n",
       "      <th>Ameo</th>\n",
       "      <th>BR-V</th>\n",
       "      <th>Baleno</th>\n",
       "      <th>Benz</th>\n",
       "      <th>Bolero</th>\n",
       "      <th>Brio</th>\n",
       "      <th>CRV</th>\n",
       "      <th>Camry</th>\n",
       "      <th>Captur</th>\n",
       "      <th>Celerio</th>\n",
       "      <th>Ciaz</th>\n",
       "      <th>City</th>\n",
       "      <th>Civic</th>\n",
       "      <th>Compass</th>\n",
       "      <th>Corolla</th>\n",
       "      <th>Creta</th>\n",
       "      <th>Duster</th>\n",
       "      <th>Dzire</th>\n",
       "      <th>Ecosport</th>\n",
       "      <th>Eeco</th>\n",
       "      <th>Elite</th>\n",
       "      <th>Endeavour</th>\n",
       "      <th>Eon</th>\n",
       "      <th>Ertiga</th>\n",
       "      <th>Etios</th>\n",
       "      <th>FREESTYLE</th>\n",
       "      <th>Figo</th>\n",
       "      <th>Fortuner</th>\n",
       "      <th>Freelander</th>\n",
       "      <th>GRAND</th>\n",
       "      <th>Glanza</th>\n",
       "      <th>Go</th>\n",
       "      <th>Grand</th>\n",
       "      <th>HECTOR</th>\n",
       "      <th>Harrier</th>\n",
       "      <th>Hexa</th>\n",
       "      <th>IGNIS</th>\n",
       "      <th>Innova</th>\n",
       "      <th>Jazz</th>\n",
       "      <th>KAROQ</th>\n",
       "      <th>Kiger</th>\n",
       "      <th>Kuv100</th>\n",
       "      <th>Kwid</th>\n",
       "      <th>MARAZZO</th>\n",
       "      <th>Micra</th>\n",
       "      <th>Mobilio</th>\n",
       "      <th>NEW</th>\n",
       "      <th>NEXON</th>\n",
       "      <th>Nano</th>\n",
       "      <th>New</th>\n",
       "      <th>OMNI</th>\n",
       "      <th>Octavia</th>\n",
       "      <th>Polo</th>\n",
       "      <th>Q3</th>\n",
       "      <th>Rapid</th>\n",
       "      <th>Redi</th>\n",
       "      <th>Ritz</th>\n",
       "      <th>S</th>\n",
       "      <th>SELTOS</th>\n",
       "      <th>Santro</th>\n",
       "      <th>Scorpio</th>\n",
       "      <th>Sunny</th>\n",
       "      <th>Superb</th>\n",
       "      <th>Swift</th>\n",
       "      <th>TIGOR</th>\n",
       "      <th>TRIBER</th>\n",
       "      <th>TUV300</th>\n",
       "      <th>Terrano</th>\n",
       "      <th>Thar</th>\n",
       "      <th>Tiago</th>\n",
       "      <th>Tucson</th>\n",
       "      <th>VENUE</th>\n",
       "      <th>Vento</th>\n",
       "      <th>Verna</th>\n",
       "      <th>Vitara</th>\n",
       "      <th>WR-V</th>\n",
       "      <th>Wagon</th>\n",
       "      <th>X1</th>\n",
       "      <th>XL6</th>\n",
       "      <th>XUV</th>\n",
       "      <th>XUV500</th>\n",
       "      <th>Xcent</th>\n",
       "      <th>YARIS</th>\n",
       "      <th>Zen</th>\n",
       "      <th>i10</th>\n",
       "      <th>i20</th>\n",
       "    </tr>\n",
       "  </thead>\n",
       "  <tbody>\n",
       "    <tr>\n",
       "      <td>0</td>\n",
       "      <td>69894</td>\n",
       "      <td>474699</td>\n",
       "      <td>2017</td>\n",
       "      <td>1</td>\n",
       "      <td>0</td>\n",
       "      <td>0</td>\n",
       "      <td>1</td>\n",
       "      <td>0</td>\n",
       "      <td>0</td>\n",
       "      <td>0</td>\n",
       "      <td>0</td>\n",
       "      <td>0</td>\n",
       "      <td>0</td>\n",
       "      <td>0</td>\n",
       "      <td>0</td>\n",
       "      <td>0</td>\n",
       "      <td>0</td>\n",
       "      <td>0</td>\n",
       "      <td>0</td>\n",
       "      <td>0</td>\n",
       "      <td>0</td>\n",
       "      <td>0</td>\n",
       "      <td>0</td>\n",
       "      <td>0</td>\n",
       "      <td>0</td>\n",
       "      <td>0</td>\n",
       "      <td>0</td>\n",
       "      <td>0</td>\n",
       "      <td>0</td>\n",
       "      <td>0</td>\n",
       "      <td>0</td>\n",
       "      <td>0</td>\n",
       "      <td>0</td>\n",
       "      <td>0</td>\n",
       "      <td>0</td>\n",
       "      <td>0</td>\n",
       "      <td>0</td>\n",
       "      <td>0</td>\n",
       "      <td>0</td>\n",
       "      <td>0</td>\n",
       "      <td>0</td>\n",
       "      <td>1</td>\n",
       "      <td>0</td>\n",
       "      <td>0</td>\n",
       "      <td>0</td>\n",
       "      <td>0</td>\n",
       "      <td>0</td>\n",
       "      <td>0</td>\n",
       "      <td>0</td>\n",
       "      <td>0</td>\n",
       "      <td>0</td>\n",
       "      <td>0</td>\n",
       "      <td>0</td>\n",
       "      <td>0</td>\n",
       "      <td>0</td>\n",
       "      <td>0</td>\n",
       "      <td>1</td>\n",
       "      <td>0</td>\n",
       "      <td>0</td>\n",
       "      <td>0</td>\n",
       "      <td>0</td>\n",
       "      <td>0</td>\n",
       "      <td>0</td>\n",
       "      <td>0</td>\n",
       "      <td>0</td>\n",
       "      <td>0</td>\n",
       "      <td>0</td>\n",
       "      <td>0</td>\n",
       "      <td>0</td>\n",
       "      <td>0</td>\n",
       "      <td>0</td>\n",
       "      <td>0</td>\n",
       "      <td>0</td>\n",
       "      <td>0</td>\n",
       "      <td>0</td>\n",
       "      <td>0</td>\n",
       "      <td>0</td>\n",
       "      <td>0</td>\n",
       "      <td>0</td>\n",
       "      <td>0</td>\n",
       "      <td>0</td>\n",
       "      <td>0</td>\n",
       "      <td>0</td>\n",
       "      <td>0</td>\n",
       "      <td>0</td>\n",
       "      <td>0</td>\n",
       "      <td>0</td>\n",
       "      <td>0</td>\n",
       "      <td>0</td>\n",
       "      <td>0</td>\n",
       "      <td>0</td>\n",
       "      <td>0</td>\n",
       "      <td>0</td>\n",
       "      <td>0</td>\n",
       "      <td>0</td>\n",
       "      <td>0</td>\n",
       "      <td>0</td>\n",
       "      <td>0</td>\n",
       "      <td>0</td>\n",
       "      <td>0</td>\n",
       "      <td>0</td>\n",
       "      <td>0</td>\n",
       "      <td>0</td>\n",
       "      <td>0</td>\n",
       "      <td>0</td>\n",
       "      <td>0</td>\n",
       "      <td>0</td>\n",
       "      <td>0</td>\n",
       "      <td>0</td>\n",
       "      <td>0</td>\n",
       "      <td>0</td>\n",
       "      <td>0</td>\n",
       "      <td>0</td>\n",
       "      <td>0</td>\n",
       "      <td>0</td>\n",
       "      <td>0</td>\n",
       "      <td>0</td>\n",
       "      <td>0</td>\n",
       "      <td>0</td>\n",
       "      <td>0</td>\n",
       "      <td>0</td>\n",
       "      <td>0</td>\n",
       "      <td>0</td>\n",
       "      <td>0</td>\n",
       "      <td>0</td>\n",
       "      <td>0</td>\n",
       "      <td>0</td>\n",
       "      <td>0</td>\n",
       "      <td>0</td>\n",
       "      <td>0</td>\n",
       "      <td>0</td>\n",
       "      <td>0</td>\n",
       "      <td>0</td>\n",
       "      <td>0</td>\n",
       "      <td>0</td>\n",
       "      <td>1</td>\n",
       "      <td>0</td>\n",
       "      <td>0</td>\n",
       "      <td>0</td>\n",
       "      <td>0</td>\n",
       "      <td>0</td>\n",
       "      <td>0</td>\n",
       "      <td>0</td>\n",
       "      <td>0</td>\n",
       "      <td>0</td>\n",
       "      <td>0</td>\n",
       "      <td>0</td>\n",
       "      <td>0</td>\n",
       "      <td>0</td>\n",
       "      <td>0</td>\n",
       "      <td>0</td>\n",
       "      <td>0</td>\n",
       "      <td>0</td>\n",
       "      <td>0</td>\n",
       "      <td>0</td>\n",
       "      <td>0</td>\n",
       "      <td>0</td>\n",
       "      <td>0</td>\n",
       "    </tr>\n",
       "    <tr>\n",
       "      <td>1</td>\n",
       "      <td>20685</td>\n",
       "      <td>356699</td>\n",
       "      <td>2017</td>\n",
       "      <td>1</td>\n",
       "      <td>0</td>\n",
       "      <td>0</td>\n",
       "      <td>0</td>\n",
       "      <td>0</td>\n",
       "      <td>1</td>\n",
       "      <td>0</td>\n",
       "      <td>0</td>\n",
       "      <td>0</td>\n",
       "      <td>1</td>\n",
       "      <td>0</td>\n",
       "      <td>0</td>\n",
       "      <td>1</td>\n",
       "      <td>0</td>\n",
       "      <td>0</td>\n",
       "      <td>0</td>\n",
       "      <td>0</td>\n",
       "      <td>0</td>\n",
       "      <td>0</td>\n",
       "      <td>0</td>\n",
       "      <td>0</td>\n",
       "      <td>0</td>\n",
       "      <td>0</td>\n",
       "      <td>0</td>\n",
       "      <td>0</td>\n",
       "      <td>0</td>\n",
       "      <td>0</td>\n",
       "      <td>0</td>\n",
       "      <td>0</td>\n",
       "      <td>0</td>\n",
       "      <td>0</td>\n",
       "      <td>0</td>\n",
       "      <td>0</td>\n",
       "      <td>0</td>\n",
       "      <td>0</td>\n",
       "      <td>0</td>\n",
       "      <td>0</td>\n",
       "      <td>0</td>\n",
       "      <td>1</td>\n",
       "      <td>0</td>\n",
       "      <td>0</td>\n",
       "      <td>0</td>\n",
       "      <td>0</td>\n",
       "      <td>0</td>\n",
       "      <td>0</td>\n",
       "      <td>0</td>\n",
       "      <td>0</td>\n",
       "      <td>0</td>\n",
       "      <td>0</td>\n",
       "      <td>0</td>\n",
       "      <td>0</td>\n",
       "      <td>0</td>\n",
       "      <td>0</td>\n",
       "      <td>1</td>\n",
       "      <td>0</td>\n",
       "      <td>0</td>\n",
       "      <td>0</td>\n",
       "      <td>0</td>\n",
       "      <td>0</td>\n",
       "      <td>0</td>\n",
       "      <td>0</td>\n",
       "      <td>0</td>\n",
       "      <td>0</td>\n",
       "      <td>0</td>\n",
       "      <td>0</td>\n",
       "      <td>0</td>\n",
       "      <td>0</td>\n",
       "      <td>0</td>\n",
       "      <td>0</td>\n",
       "      <td>0</td>\n",
       "      <td>0</td>\n",
       "      <td>0</td>\n",
       "      <td>0</td>\n",
       "      <td>0</td>\n",
       "      <td>0</td>\n",
       "      <td>0</td>\n",
       "      <td>0</td>\n",
       "      <td>0</td>\n",
       "      <td>0</td>\n",
       "      <td>0</td>\n",
       "      <td>0</td>\n",
       "      <td>0</td>\n",
       "      <td>0</td>\n",
       "      <td>0</td>\n",
       "      <td>0</td>\n",
       "      <td>0</td>\n",
       "      <td>0</td>\n",
       "      <td>0</td>\n",
       "      <td>0</td>\n",
       "      <td>0</td>\n",
       "      <td>0</td>\n",
       "      <td>0</td>\n",
       "      <td>0</td>\n",
       "      <td>0</td>\n",
       "      <td>0</td>\n",
       "      <td>0</td>\n",
       "      <td>0</td>\n",
       "      <td>0</td>\n",
       "      <td>0</td>\n",
       "      <td>0</td>\n",
       "      <td>0</td>\n",
       "      <td>0</td>\n",
       "      <td>0</td>\n",
       "      <td>0</td>\n",
       "      <td>0</td>\n",
       "      <td>0</td>\n",
       "      <td>0</td>\n",
       "      <td>0</td>\n",
       "      <td>0</td>\n",
       "      <td>0</td>\n",
       "      <td>0</td>\n",
       "      <td>0</td>\n",
       "      <td>0</td>\n",
       "      <td>0</td>\n",
       "      <td>0</td>\n",
       "      <td>0</td>\n",
       "      <td>0</td>\n",
       "      <td>0</td>\n",
       "      <td>0</td>\n",
       "      <td>0</td>\n",
       "      <td>0</td>\n",
       "      <td>0</td>\n",
       "      <td>0</td>\n",
       "      <td>0</td>\n",
       "      <td>0</td>\n",
       "      <td>0</td>\n",
       "      <td>0</td>\n",
       "      <td>0</td>\n",
       "      <td>0</td>\n",
       "      <td>0</td>\n",
       "      <td>0</td>\n",
       "      <td>0</td>\n",
       "      <td>0</td>\n",
       "      <td>0</td>\n",
       "      <td>0</td>\n",
       "      <td>0</td>\n",
       "      <td>0</td>\n",
       "      <td>0</td>\n",
       "      <td>0</td>\n",
       "      <td>0</td>\n",
       "      <td>0</td>\n",
       "      <td>0</td>\n",
       "      <td>0</td>\n",
       "      <td>0</td>\n",
       "      <td>0</td>\n",
       "      <td>1</td>\n",
       "      <td>0</td>\n",
       "      <td>0</td>\n",
       "      <td>0</td>\n",
       "      <td>0</td>\n",
       "      <td>0</td>\n",
       "      <td>0</td>\n",
       "      <td>0</td>\n",
       "      <td>0</td>\n",
       "      <td>0</td>\n",
       "    </tr>\n",
       "    <tr>\n",
       "      <td>2</td>\n",
       "      <td>31245</td>\n",
       "      <td>798699</td>\n",
       "      <td>2019</td>\n",
       "      <td>1</td>\n",
       "      <td>0</td>\n",
       "      <td>0</td>\n",
       "      <td>1</td>\n",
       "      <td>0</td>\n",
       "      <td>0</td>\n",
       "      <td>0</td>\n",
       "      <td>0</td>\n",
       "      <td>0</td>\n",
       "      <td>0</td>\n",
       "      <td>0</td>\n",
       "      <td>0</td>\n",
       "      <td>0</td>\n",
       "      <td>0</td>\n",
       "      <td>0</td>\n",
       "      <td>0</td>\n",
       "      <td>0</td>\n",
       "      <td>0</td>\n",
       "      <td>0</td>\n",
       "      <td>0</td>\n",
       "      <td>0</td>\n",
       "      <td>0</td>\n",
       "      <td>0</td>\n",
       "      <td>0</td>\n",
       "      <td>0</td>\n",
       "      <td>0</td>\n",
       "      <td>0</td>\n",
       "      <td>0</td>\n",
       "      <td>0</td>\n",
       "      <td>0</td>\n",
       "      <td>0</td>\n",
       "      <td>0</td>\n",
       "      <td>0</td>\n",
       "      <td>0</td>\n",
       "      <td>0</td>\n",
       "      <td>0</td>\n",
       "      <td>0</td>\n",
       "      <td>0</td>\n",
       "      <td>1</td>\n",
       "      <td>0</td>\n",
       "      <td>0</td>\n",
       "      <td>0</td>\n",
       "      <td>0</td>\n",
       "      <td>0</td>\n",
       "      <td>0</td>\n",
       "      <td>0</td>\n",
       "      <td>0</td>\n",
       "      <td>0</td>\n",
       "      <td>0</td>\n",
       "      <td>0</td>\n",
       "      <td>0</td>\n",
       "      <td>0</td>\n",
       "      <td>0</td>\n",
       "      <td>1</td>\n",
       "      <td>0</td>\n",
       "      <td>0</td>\n",
       "      <td>0</td>\n",
       "      <td>0</td>\n",
       "      <td>0</td>\n",
       "      <td>0</td>\n",
       "      <td>0</td>\n",
       "      <td>0</td>\n",
       "      <td>0</td>\n",
       "      <td>0</td>\n",
       "      <td>0</td>\n",
       "      <td>0</td>\n",
       "      <td>0</td>\n",
       "      <td>0</td>\n",
       "      <td>0</td>\n",
       "      <td>0</td>\n",
       "      <td>0</td>\n",
       "      <td>0</td>\n",
       "      <td>0</td>\n",
       "      <td>0</td>\n",
       "      <td>0</td>\n",
       "      <td>0</td>\n",
       "      <td>0</td>\n",
       "      <td>0</td>\n",
       "      <td>0</td>\n",
       "      <td>0</td>\n",
       "      <td>0</td>\n",
       "      <td>0</td>\n",
       "      <td>0</td>\n",
       "      <td>0</td>\n",
       "      <td>0</td>\n",
       "      <td>0</td>\n",
       "      <td>0</td>\n",
       "      <td>0</td>\n",
       "      <td>0</td>\n",
       "      <td>0</td>\n",
       "      <td>0</td>\n",
       "      <td>0</td>\n",
       "      <td>0</td>\n",
       "      <td>0</td>\n",
       "      <td>0</td>\n",
       "      <td>0</td>\n",
       "      <td>0</td>\n",
       "      <td>0</td>\n",
       "      <td>0</td>\n",
       "      <td>0</td>\n",
       "      <td>0</td>\n",
       "      <td>0</td>\n",
       "      <td>0</td>\n",
       "      <td>0</td>\n",
       "      <td>0</td>\n",
       "      <td>0</td>\n",
       "      <td>0</td>\n",
       "      <td>0</td>\n",
       "      <td>0</td>\n",
       "      <td>0</td>\n",
       "      <td>0</td>\n",
       "      <td>0</td>\n",
       "      <td>0</td>\n",
       "      <td>0</td>\n",
       "      <td>0</td>\n",
       "      <td>0</td>\n",
       "      <td>0</td>\n",
       "      <td>0</td>\n",
       "      <td>0</td>\n",
       "      <td>0</td>\n",
       "      <td>0</td>\n",
       "      <td>0</td>\n",
       "      <td>0</td>\n",
       "      <td>0</td>\n",
       "      <td>0</td>\n",
       "      <td>0</td>\n",
       "      <td>0</td>\n",
       "      <td>0</td>\n",
       "      <td>0</td>\n",
       "      <td>0</td>\n",
       "      <td>0</td>\n",
       "      <td>0</td>\n",
       "      <td>0</td>\n",
       "      <td>0</td>\n",
       "      <td>0</td>\n",
       "      <td>0</td>\n",
       "      <td>0</td>\n",
       "      <td>0</td>\n",
       "      <td>0</td>\n",
       "      <td>0</td>\n",
       "      <td>0</td>\n",
       "      <td>0</td>\n",
       "      <td>0</td>\n",
       "      <td>1</td>\n",
       "      <td>0</td>\n",
       "      <td>0</td>\n",
       "      <td>0</td>\n",
       "      <td>0</td>\n",
       "      <td>0</td>\n",
       "      <td>0</td>\n",
       "      <td>0</td>\n",
       "      <td>0</td>\n",
       "      <td>0</td>\n",
       "      <td>0</td>\n",
       "      <td>0</td>\n",
       "    </tr>\n",
       "    <tr>\n",
       "      <td>3</td>\n",
       "      <td>71450</td>\n",
       "      <td>330599</td>\n",
       "      <td>2014</td>\n",
       "      <td>1</td>\n",
       "      <td>0</td>\n",
       "      <td>0</td>\n",
       "      <td>1</td>\n",
       "      <td>0</td>\n",
       "      <td>0</td>\n",
       "      <td>0</td>\n",
       "      <td>0</td>\n",
       "      <td>0</td>\n",
       "      <td>1</td>\n",
       "      <td>0</td>\n",
       "      <td>0</td>\n",
       "      <td>0</td>\n",
       "      <td>0</td>\n",
       "      <td>0</td>\n",
       "      <td>0</td>\n",
       "      <td>0</td>\n",
       "      <td>0</td>\n",
       "      <td>0</td>\n",
       "      <td>0</td>\n",
       "      <td>0</td>\n",
       "      <td>0</td>\n",
       "      <td>0</td>\n",
       "      <td>0</td>\n",
       "      <td>0</td>\n",
       "      <td>0</td>\n",
       "      <td>0</td>\n",
       "      <td>0</td>\n",
       "      <td>0</td>\n",
       "      <td>0</td>\n",
       "      <td>0</td>\n",
       "      <td>0</td>\n",
       "      <td>0</td>\n",
       "      <td>0</td>\n",
       "      <td>0</td>\n",
       "      <td>0</td>\n",
       "      <td>0</td>\n",
       "      <td>0</td>\n",
       "      <td>1</td>\n",
       "      <td>0</td>\n",
       "      <td>0</td>\n",
       "      <td>0</td>\n",
       "      <td>0</td>\n",
       "      <td>0</td>\n",
       "      <td>0</td>\n",
       "      <td>0</td>\n",
       "      <td>0</td>\n",
       "      <td>0</td>\n",
       "      <td>0</td>\n",
       "      <td>0</td>\n",
       "      <td>0</td>\n",
       "      <td>0</td>\n",
       "      <td>0</td>\n",
       "      <td>1</td>\n",
       "      <td>0</td>\n",
       "      <td>0</td>\n",
       "      <td>0</td>\n",
       "      <td>0</td>\n",
       "      <td>0</td>\n",
       "      <td>0</td>\n",
       "      <td>0</td>\n",
       "      <td>0</td>\n",
       "      <td>0</td>\n",
       "      <td>0</td>\n",
       "      <td>0</td>\n",
       "      <td>0</td>\n",
       "      <td>0</td>\n",
       "      <td>0</td>\n",
       "      <td>0</td>\n",
       "      <td>0</td>\n",
       "      <td>0</td>\n",
       "      <td>0</td>\n",
       "      <td>0</td>\n",
       "      <td>0</td>\n",
       "      <td>0</td>\n",
       "      <td>0</td>\n",
       "      <td>0</td>\n",
       "      <td>0</td>\n",
       "      <td>0</td>\n",
       "      <td>0</td>\n",
       "      <td>0</td>\n",
       "      <td>0</td>\n",
       "      <td>0</td>\n",
       "      <td>0</td>\n",
       "      <td>0</td>\n",
       "      <td>0</td>\n",
       "      <td>0</td>\n",
       "      <td>0</td>\n",
       "      <td>0</td>\n",
       "      <td>0</td>\n",
       "      <td>0</td>\n",
       "      <td>0</td>\n",
       "      <td>0</td>\n",
       "      <td>0</td>\n",
       "      <td>0</td>\n",
       "      <td>0</td>\n",
       "      <td>0</td>\n",
       "      <td>0</td>\n",
       "      <td>0</td>\n",
       "      <td>0</td>\n",
       "      <td>0</td>\n",
       "      <td>0</td>\n",
       "      <td>0</td>\n",
       "      <td>0</td>\n",
       "      <td>0</td>\n",
       "      <td>0</td>\n",
       "      <td>0</td>\n",
       "      <td>0</td>\n",
       "      <td>0</td>\n",
       "      <td>0</td>\n",
       "      <td>0</td>\n",
       "      <td>0</td>\n",
       "      <td>0</td>\n",
       "      <td>0</td>\n",
       "      <td>0</td>\n",
       "      <td>0</td>\n",
       "      <td>0</td>\n",
       "      <td>0</td>\n",
       "      <td>0</td>\n",
       "      <td>0</td>\n",
       "      <td>0</td>\n",
       "      <td>0</td>\n",
       "      <td>0</td>\n",
       "      <td>0</td>\n",
       "      <td>0</td>\n",
       "      <td>0</td>\n",
       "      <td>0</td>\n",
       "      <td>0</td>\n",
       "      <td>0</td>\n",
       "      <td>0</td>\n",
       "      <td>0</td>\n",
       "      <td>0</td>\n",
       "      <td>1</td>\n",
       "      <td>0</td>\n",
       "      <td>0</td>\n",
       "      <td>0</td>\n",
       "      <td>0</td>\n",
       "      <td>0</td>\n",
       "      <td>0</td>\n",
       "      <td>0</td>\n",
       "      <td>0</td>\n",
       "      <td>0</td>\n",
       "      <td>0</td>\n",
       "      <td>0</td>\n",
       "      <td>0</td>\n",
       "      <td>0</td>\n",
       "      <td>0</td>\n",
       "      <td>0</td>\n",
       "      <td>0</td>\n",
       "      <td>0</td>\n",
       "      <td>0</td>\n",
       "      <td>0</td>\n",
       "      <td>0</td>\n",
       "      <td>0</td>\n",
       "      <td>0</td>\n",
       "    </tr>\n",
       "    <tr>\n",
       "      <td>4</td>\n",
       "      <td>39487</td>\n",
       "      <td>491299</td>\n",
       "      <td>2013</td>\n",
       "      <td>1</td>\n",
       "      <td>0</td>\n",
       "      <td>0</td>\n",
       "      <td>1</td>\n",
       "      <td>0</td>\n",
       "      <td>0</td>\n",
       "      <td>0</td>\n",
       "      <td>0</td>\n",
       "      <td>0</td>\n",
       "      <td>0</td>\n",
       "      <td>0</td>\n",
       "      <td>0</td>\n",
       "      <td>0</td>\n",
       "      <td>0</td>\n",
       "      <td>0</td>\n",
       "      <td>0</td>\n",
       "      <td>0</td>\n",
       "      <td>0</td>\n",
       "      <td>0</td>\n",
       "      <td>0</td>\n",
       "      <td>0</td>\n",
       "      <td>0</td>\n",
       "      <td>0</td>\n",
       "      <td>0</td>\n",
       "      <td>0</td>\n",
       "      <td>0</td>\n",
       "      <td>0</td>\n",
       "      <td>0</td>\n",
       "      <td>0</td>\n",
       "      <td>0</td>\n",
       "      <td>0</td>\n",
       "      <td>0</td>\n",
       "      <td>0</td>\n",
       "      <td>0</td>\n",
       "      <td>0</td>\n",
       "      <td>0</td>\n",
       "      <td>0</td>\n",
       "      <td>0</td>\n",
       "      <td>1</td>\n",
       "      <td>0</td>\n",
       "      <td>0</td>\n",
       "      <td>0</td>\n",
       "      <td>0</td>\n",
       "      <td>0</td>\n",
       "      <td>0</td>\n",
       "      <td>0</td>\n",
       "      <td>0</td>\n",
       "      <td>0</td>\n",
       "      <td>0</td>\n",
       "      <td>0</td>\n",
       "      <td>0</td>\n",
       "      <td>0</td>\n",
       "      <td>0</td>\n",
       "      <td>1</td>\n",
       "      <td>0</td>\n",
       "      <td>0</td>\n",
       "      <td>0</td>\n",
       "      <td>0</td>\n",
       "      <td>0</td>\n",
       "      <td>0</td>\n",
       "      <td>0</td>\n",
       "      <td>0</td>\n",
       "      <td>0</td>\n",
       "      <td>0</td>\n",
       "      <td>0</td>\n",
       "      <td>0</td>\n",
       "      <td>0</td>\n",
       "      <td>0</td>\n",
       "      <td>0</td>\n",
       "      <td>0</td>\n",
       "      <td>0</td>\n",
       "      <td>0</td>\n",
       "      <td>0</td>\n",
       "      <td>0</td>\n",
       "      <td>0</td>\n",
       "      <td>0</td>\n",
       "      <td>0</td>\n",
       "      <td>0</td>\n",
       "      <td>0</td>\n",
       "      <td>0</td>\n",
       "      <td>0</td>\n",
       "      <td>0</td>\n",
       "      <td>0</td>\n",
       "      <td>0</td>\n",
       "      <td>0</td>\n",
       "      <td>0</td>\n",
       "      <td>0</td>\n",
       "      <td>0</td>\n",
       "      <td>0</td>\n",
       "      <td>0</td>\n",
       "      <td>0</td>\n",
       "      <td>0</td>\n",
       "      <td>1</td>\n",
       "      <td>0</td>\n",
       "      <td>0</td>\n",
       "      <td>0</td>\n",
       "      <td>0</td>\n",
       "      <td>0</td>\n",
       "      <td>0</td>\n",
       "      <td>0</td>\n",
       "      <td>0</td>\n",
       "      <td>0</td>\n",
       "      <td>0</td>\n",
       "      <td>0</td>\n",
       "      <td>0</td>\n",
       "      <td>0</td>\n",
       "      <td>0</td>\n",
       "      <td>0</td>\n",
       "      <td>0</td>\n",
       "      <td>0</td>\n",
       "      <td>0</td>\n",
       "      <td>0</td>\n",
       "      <td>0</td>\n",
       "      <td>0</td>\n",
       "      <td>0</td>\n",
       "      <td>0</td>\n",
       "      <td>0</td>\n",
       "      <td>0</td>\n",
       "      <td>0</td>\n",
       "      <td>0</td>\n",
       "      <td>0</td>\n",
       "      <td>0</td>\n",
       "      <td>0</td>\n",
       "      <td>0</td>\n",
       "      <td>0</td>\n",
       "      <td>0</td>\n",
       "      <td>0</td>\n",
       "      <td>0</td>\n",
       "      <td>0</td>\n",
       "      <td>0</td>\n",
       "      <td>0</td>\n",
       "      <td>0</td>\n",
       "      <td>0</td>\n",
       "      <td>0</td>\n",
       "      <td>0</td>\n",
       "      <td>0</td>\n",
       "      <td>0</td>\n",
       "      <td>0</td>\n",
       "      <td>0</td>\n",
       "      <td>0</td>\n",
       "      <td>0</td>\n",
       "      <td>0</td>\n",
       "      <td>0</td>\n",
       "      <td>0</td>\n",
       "      <td>0</td>\n",
       "      <td>0</td>\n",
       "      <td>0</td>\n",
       "      <td>0</td>\n",
       "      <td>0</td>\n",
       "      <td>0</td>\n",
       "      <td>0</td>\n",
       "      <td>0</td>\n",
       "      <td>0</td>\n",
       "      <td>0</td>\n",
       "      <td>0</td>\n",
       "    </tr>\n",
       "  </tbody>\n",
       "</table>\n",
       "</div>"
      ],
      "text/plain": [
       "   Mileage   Price  Year  Manual  1.5-2.0 Liter  2.0+ Liter  Basic Diesel  \\\n",
       "0    69894  474699  2017       1              0           0             1   \n",
       "1    20685  356699  2017       1              0           0             0   \n",
       "2    31245  798699  2019       1              0           0             1   \n",
       "3    71450  330599  2014       1              0           0             1   \n",
       "4    39487  491299  2013       1              0           0             1   \n",
       "\n",
       "   Basic Petrol  Middle Petrol  Other  Top Diesel  Top Petrol  2nd Owner  \\\n",
       "0             0              0      0           0           0          0   \n",
       "1             0              1      0           0           0          1   \n",
       "2             0              0      0           0           0          0   \n",
       "3             0              0      0           0           0          1   \n",
       "4             0              0      0           0           0          0   \n",
       "\n",
       "   3rd Owner  4th Owner  Petrol  Petrol + CNG  Petrol + LPG  Bengaluru  \\\n",
       "0          0          0       0             0             0          0   \n",
       "1          0          0       1             0             0          0   \n",
       "2          0          0       0             0             0          0   \n",
       "3          0          0       0             0             0          0   \n",
       "4          0          0       0             0             0          0   \n",
       "\n",
       "   Bhopal  Chandigarh  Chennai  Delhi  Faridabad  Ghaziabad  Gurgaon  \\\n",
       "0       0           0        0      0          0          0        0   \n",
       "1       0           0        0      0          0          0        0   \n",
       "2       0           0        0      0          0          0        0   \n",
       "3       0           0        0      0          0          0        0   \n",
       "4       0           0        0      0          0          0        0   \n",
       "\n",
       "   Hyderabad  Indore  Jaipur  Kochi  Kolkata  Lucknow  Ludhiana  Meerut  \\\n",
       "0          0       0       0      0        0        0         0       0   \n",
       "1          0       0       0      0        0        0         0       0   \n",
       "2          0       0       0      0        0        0         0       0   \n",
       "3          0       0       0      0        0        0         0       0   \n",
       "4          0       0       0      0        0        0         0       0   \n",
       "\n",
       "   Mumbai  Nagpur  Nasik  Noida  Panipat  Pune  Rajkot  Rohtak  Sonipat  \\\n",
       "0       0       0      0      0        0     0       0       1        0   \n",
       "1       0       0      0      0        0     0       0       1        0   \n",
       "2       0       0      0      0        0     0       0       1        0   \n",
       "3       0       0      0      0        0     0       0       1        0   \n",
       "4       0       0      0      0        0     0       0       1        0   \n",
       "\n",
       "   Surat  Vadodara  Zirakpur  BMW  Datsun  Ford  Honda  Hyundai  Jeep  KIA  \\\n",
       "0      0         0         0    0       0     0      0        0     0    0   \n",
       "1      0         0         0    0       0     0      0        0     0    0   \n",
       "2      0         0         0    0       0     0      0        0     0    0   \n",
       "3      0         0         0    0       0     0      0        0     0    0   \n",
       "4      0         0         0    0       0     0      0        0     0    0   \n",
       "\n",
       "   Landrover  MG  Mahindra  Maruti  Mercedes  Nissan  RENAULT  Renault  Skoda  \\\n",
       "0          0   0         0       1         0       0        0        0      0   \n",
       "1          0   0         0       1         0       0        0        0      0   \n",
       "2          0   0         0       1         0       0        0        0      0   \n",
       "3          0   0         0       1         0       0        0        0      0   \n",
       "4          0   0         0       1         0       0        0        0      0   \n",
       "\n",
       "   Tata  Toyota  Volkswagen  A  A3  A4  ALTROZ  AURA  Alto  Amaze  Ameo  BR-V  \\\n",
       "0     0       0           0  0   0   0       0     0     0      0     0     0   \n",
       "1     0       0           0  0   0   0       0     0     0      0     0     0   \n",
       "2     0       0           0  0   0   0       0     0     0      0     0     0   \n",
       "3     0       0           0  0   0   0       0     0     0      0     0     0   \n",
       "4     0       0           0  0   0   0       0     0     0      0     0     0   \n",
       "\n",
       "   Baleno  Benz  Bolero  Brio  CRV  Camry  Captur  Celerio  Ciaz  City  Civic  \\\n",
       "0       0     0       0     0    0      0       0        0     0     0      0   \n",
       "1       0     0       0     0    0      0       0        0     0     0      0   \n",
       "2       0     0       0     0    0      0       0        0     0     0      0   \n",
       "3       0     0       0     0    0      0       0        0     0     0      0   \n",
       "4       0     0       0     0    0      0       0        0     0     0      0   \n",
       "\n",
       "   Compass  Corolla  Creta  Duster  Dzire  Ecosport  Eeco  Elite  Endeavour  \\\n",
       "0        0        0      0       0      0         0     0      0          0   \n",
       "1        0        0      0       0      0         0     0      0          0   \n",
       "2        0        0      0       0      0         0     0      0          0   \n",
       "3        0        0      0       0      0         0     0      0          0   \n",
       "4        0        0      0       0      0         0     0      0          0   \n",
       "\n",
       "   Eon  Ertiga  Etios  FREESTYLE  Figo  Fortuner  Freelander  GRAND  Glanza  \\\n",
       "0    0       0      0          0     0         0           0      0       0   \n",
       "1    0       0      0          0     0         0           0      0       0   \n",
       "2    0       0      0          0     0         0           0      0       0   \n",
       "3    0       0      0          0     0         0           0      0       0   \n",
       "4    0       1      0          0     0         0           0      0       0   \n",
       "\n",
       "   Go  Grand  HECTOR  Harrier  Hexa  IGNIS  Innova  Jazz  KAROQ  Kiger  \\\n",
       "0   0      0       0        0     0      0       0     0      0      0   \n",
       "1   0      0       0        0     0      0       0     0      0      0   \n",
       "2   0      0       0        0     0      0       0     0      0      0   \n",
       "3   0      0       0        0     0      0       0     0      0      0   \n",
       "4   0      0       0        0     0      0       0     0      0      0   \n",
       "\n",
       "   Kuv100  Kwid  MARAZZO  Micra  Mobilio  NEW  NEXON  Nano  New  OMNI  \\\n",
       "0       0     0        0      0        0    0      0     0    0     0   \n",
       "1       0     0        0      0        0    0      0     0    0     0   \n",
       "2       0     0        0      0        0    0      0     0    0     0   \n",
       "3       0     0        0      0        0    0      0     0    0     0   \n",
       "4       0     0        0      0        0    0      0     0    0     0   \n",
       "\n",
       "   Octavia  Polo  Q3  Rapid  Redi  Ritz  S  SELTOS  Santro  Scorpio  Sunny  \\\n",
       "0        0     0   0      0     0     0  0       0       0        0      0   \n",
       "1        0     0   0      0     0     0  0       0       0        0      0   \n",
       "2        0     0   0      0     0     0  0       0       0        0      0   \n",
       "3        0     0   0      0     0     0  0       0       0        0      0   \n",
       "4        0     0   0      0     0     0  0       0       0        0      0   \n",
       "\n",
       "   Superb  Swift  TIGOR  TRIBER  TUV300  Terrano  Thar  Tiago  Tucson  VENUE  \\\n",
       "0       0      1      0       0       0        0     0      0       0      0   \n",
       "1       0      0      0       0       0        0     0      0       0      0   \n",
       "2       0      0      0       0       0        0     0      0       0      0   \n",
       "3       0      1      0       0       0        0     0      0       0      0   \n",
       "4       0      0      0       0       0        0     0      0       0      0   \n",
       "\n",
       "   Vento  Verna  Vitara  WR-V  Wagon  X1  XL6  XUV  XUV500  Xcent  YARIS  Zen  \\\n",
       "0      0      0       0     0      0   0    0    0       0      0      0    0   \n",
       "1      0      0       0     0      1   0    0    0       0      0      0    0   \n",
       "2      0      0       1     0      0   0    0    0       0      0      0    0   \n",
       "3      0      0       0     0      0   0    0    0       0      0      0    0   \n",
       "4      0      0       0     0      0   0    0    0       0      0      0    0   \n",
       "\n",
       "   i10  i20  \n",
       "0    0    0  \n",
       "1    0    0  \n",
       "2    0    0  \n",
       "3    0    0  \n",
       "4    0    0  "
      ]
     },
     "execution_count": 55,
     "metadata": {},
     "output_type": "execute_result"
    }
   ],
   "source": [
    "df.head() # Dummy variables have been created"
   ]
  },
  {
   "cell_type": "code",
   "execution_count": 56,
   "metadata": {},
   "outputs": [
    {
     "data": {
      "text/plain": [
       "(5477, 158)"
      ]
     },
     "execution_count": 56,
     "metadata": {},
     "output_type": "execute_result"
    }
   ],
   "source": [
    "df.shape # We have 3483 rows, and 150 coulmns after creating dummy variables"
   ]
  },
  {
   "cell_type": "code",
   "execution_count": 57,
   "metadata": {},
   "outputs": [
    {
     "name": "stdout",
     "output_type": "stream",
     "text": [
      "Skew of Pirce: 2.5520484269275756\n"
     ]
    },
    {
     "data": {
      "image/png": "[encoded data removed]",
      "text/plain": [
       "<Figure size 360x360 with 1 Axes>"
      ]
     },
     "metadata": {
      "needs_background": "light"
     },
     "output_type": "display_data"
    }
   ],
   "source": [
    "fig = plt.figure(figsize=(5,5))\n",
    "\n",
    "print (\"Skew of Pirce:\", df.Price.skew())\n",
    "plt.hist(df.Price,  color='red')\n",
    "plt.show() # Checking skew of target variable"
   ]
  },
  {
   "cell_type": "code",
   "execution_count": 58,
   "metadata": {},
   "outputs": [
    {
     "name": "stdout",
     "output_type": "stream",
     "text": [
      "Skew of Log-Transformed Price: 0.5222401737362218\n"
     ]
    },
    {
     "data": {
      "image/png": "[encoded data removed]",
      "text/plain": [
       "<Figure size 360x360 with 1 Axes>"
      ]
     },
     "metadata": {
      "needs_background": "light"
     },
     "output_type": "display_data"
    }
   ],
   "source": [
    "fig = plt.figure(figsize=(5,5))\n",
    "\n",
    "print (\"Skew of Log-Transformed Price:\", np.log1p(df.Price).skew())\n",
    "plt.hist(np.log1p(df.Price), color='green')\n",
    "plt.show() # Fixing the skew by taking log"
   ]
  },
  {
   "cell_type": "code",
   "execution_count": 59,
   "metadata": {},
   "outputs": [
    {
     "name": "stdout",
     "output_type": "stream",
     "text": [
      "Skew of Mileage 1.3948558070342654\n"
     ]
    },
    {
     "data": {
      "image/png": "[encoded data removed]",
      "text/plain": [
       "<Figure size 360x360 with 1 Axes>"
      ]
     },
     "metadata": {
      "needs_background": "light"
     },
     "output_type": "display_data"
    }
   ],
   "source": [
    "fig = plt.figure(figsize=(5,5))\n",
    "\n",
    "print (\"Skew of Mileage\", df.Mileage.skew())\n",
    "plt.hist(df.Mileage,  color='red')\n",
    "plt.show() # Checking skew of variable"
   ]
  },
  {
   "cell_type": "code",
   "execution_count": 60,
   "metadata": {},
   "outputs": [
    {
     "name": "stdout",
     "output_type": "stream",
     "text": [
      "Skew of Log-Transformed Mileage -1.703346258624965\n"
     ]
    },
    {
     "data": {
      "image/png": "[encoded data removed]",
      "text/plain": [
       "<Figure size 360x360 with 1 Axes>"
      ]
     },
     "metadata": {
      "needs_background": "light"
     },
     "output_type": "display_data"
    }
   ],
   "source": [
    "fig = plt.figure(figsize=(5,5))\n",
    "\n",
    "print (\"Skew of Log-Transformed Mileage\", np.log1p(df.Mileage).skew())\n",
    "plt.hist(np.log1p(df.Mileage), color='green')\n",
    "plt.show() # Reducting the skew by taking log"
   ]
  },
  {
   "cell_type": "markdown",
   "metadata": {},
   "source": [
    "# Model building phase"
   ]
  },
  {
   "cell_type": "code",
   "execution_count": 61,
   "metadata": {},
   "outputs": [],
   "source": [
    "from sklearn.model_selection import train_test_split\n",
    "from sklearn.linear_model import LogisticRegression\n",
    "from sklearn.tree import DecisionTreeRegressor\n",
    "from sklearn import linear_model\n",
    "from sklearn.linear_model import LinearRegression\n",
    "from sklearn.ensemble import RandomForestRegressor\n",
    "from sklearn.svm import SVR\n",
    "from sklearn.model_selection import cross_val_score, cross_val_predict\n",
    "import sklearn.metrics as sm\n",
    "from math import e\n",
    "# Importing useful libraries"
   ]
  },
  {
   "cell_type": "code",
   "execution_count": 62,
   "metadata": {},
   "outputs": [
    {
     "data": {
      "text/html": [
       "<div>\n",
       "<style scoped>\n",
       "    .dataframe tbody tr th:only-of-type {\n",
       "        vertical-align: middle;\n",
       "    }\n",
       "\n",
       "    .dataframe tbody tr th {\n",
       "        vertical-align: top;\n",
       "    }\n",
       "\n",
       "    .dataframe thead th {\n",
       "        text-align: right;\n",
       "    }\n",
       "</style>\n",
       "<table border=\"1\" class=\"dataframe\">\n",
       "  <thead>\n",
       "    <tr style=\"text-align: right;\">\n",
       "      <th></th>\n",
       "      <th>Mileage</th>\n",
       "      <th>Price</th>\n",
       "      <th>Year</th>\n",
       "      <th>Manual</th>\n",
       "      <th>1.5-2.0 Liter</th>\n",
       "      <th>2.0+ Liter</th>\n",
       "      <th>Basic Diesel</th>\n",
       "      <th>Basic Petrol</th>\n",
       "      <th>Middle Petrol</th>\n",
       "      <th>Other</th>\n",
       "      <th>Top Diesel</th>\n",
       "      <th>Top Petrol</th>\n",
       "      <th>2nd Owner</th>\n",
       "      <th>3rd Owner</th>\n",
       "      <th>4th Owner</th>\n",
       "      <th>Petrol</th>\n",
       "      <th>Petrol + CNG</th>\n",
       "      <th>Petrol + LPG</th>\n",
       "      <th>Bengaluru</th>\n",
       "      <th>Bhopal</th>\n",
       "      <th>Chandigarh</th>\n",
       "      <th>Chennai</th>\n",
       "      <th>Delhi</th>\n",
       "      <th>Faridabad</th>\n",
       "      <th>Ghaziabad</th>\n",
       "      <th>Gurgaon</th>\n",
       "      <th>Hyderabad</th>\n",
       "      <th>Indore</th>\n",
       "      <th>Jaipur</th>\n",
       "      <th>Kochi</th>\n",
       "      <th>Kolkata</th>\n",
       "      <th>Lucknow</th>\n",
       "      <th>Ludhiana</th>\n",
       "      <th>Meerut</th>\n",
       "      <th>Mumbai</th>\n",
       "      <th>Nagpur</th>\n",
       "      <th>Nasik</th>\n",
       "      <th>Noida</th>\n",
       "      <th>Panipat</th>\n",
       "      <th>Pune</th>\n",
       "      <th>Rajkot</th>\n",
       "      <th>Rohtak</th>\n",
       "      <th>Sonipat</th>\n",
       "      <th>Surat</th>\n",
       "      <th>Vadodara</th>\n",
       "      <th>Zirakpur</th>\n",
       "      <th>BMW</th>\n",
       "      <th>Datsun</th>\n",
       "      <th>Ford</th>\n",
       "      <th>Honda</th>\n",
       "      <th>Hyundai</th>\n",
       "      <th>Jeep</th>\n",
       "      <th>KIA</th>\n",
       "      <th>Landrover</th>\n",
       "      <th>MG</th>\n",
       "      <th>Mahindra</th>\n",
       "      <th>Maruti</th>\n",
       "      <th>Mercedes</th>\n",
       "      <th>Nissan</th>\n",
       "      <th>RENAULT</th>\n",
       "      <th>Renault</th>\n",
       "      <th>Skoda</th>\n",
       "      <th>Tata</th>\n",
       "      <th>Toyota</th>\n",
       "      <th>Volkswagen</th>\n",
       "      <th>A</th>\n",
       "      <th>A3</th>\n",
       "      <th>A4</th>\n",
       "      <th>ALTROZ</th>\n",
       "      <th>AURA</th>\n",
       "      <th>Alto</th>\n",
       "      <th>Amaze</th>\n",
       "      <th>Ameo</th>\n",
       "      <th>BR-V</th>\n",
       "      <th>Baleno</th>\n",
       "      <th>Benz</th>\n",
       "      <th>Bolero</th>\n",
       "      <th>Brio</th>\n",
       "      <th>CRV</th>\n",
       "      <th>Camry</th>\n",
       "      <th>Captur</th>\n",
       "      <th>Celerio</th>\n",
       "      <th>Ciaz</th>\n",
       "      <th>City</th>\n",
       "      <th>Civic</th>\n",
       "      <th>Compass</th>\n",
       "      <th>Corolla</th>\n",
       "      <th>Creta</th>\n",
       "      <th>Duster</th>\n",
       "      <th>Dzire</th>\n",
       "      <th>Ecosport</th>\n",
       "      <th>Eeco</th>\n",
       "      <th>Elite</th>\n",
       "      <th>Endeavour</th>\n",
       "      <th>Eon</th>\n",
       "      <th>Ertiga</th>\n",
       "      <th>Etios</th>\n",
       "      <th>FREESTYLE</th>\n",
       "      <th>Figo</th>\n",
       "      <th>Fortuner</th>\n",
       "      <th>Freelander</th>\n",
       "      <th>GRAND</th>\n",
       "      <th>Glanza</th>\n",
       "      <th>Go</th>\n",
       "      <th>Grand</th>\n",
       "      <th>HECTOR</th>\n",
       "      <th>Harrier</th>\n",
       "      <th>Hexa</th>\n",
       "      <th>IGNIS</th>\n",
       "      <th>Innova</th>\n",
       "      <th>Jazz</th>\n",
       "      <th>KAROQ</th>\n",
       "      <th>Kiger</th>\n",
       "      <th>Kuv100</th>\n",
       "      <th>Kwid</th>\n",
       "      <th>MARAZZO</th>\n",
       "      <th>Micra</th>\n",
       "      <th>Mobilio</th>\n",
       "      <th>NEW</th>\n",
       "      <th>NEXON</th>\n",
       "      <th>Nano</th>\n",
       "      <th>New</th>\n",
       "      <th>OMNI</th>\n",
       "      <th>Octavia</th>\n",
       "      <th>Polo</th>\n",
       "      <th>Q3</th>\n",
       "      <th>Rapid</th>\n",
       "      <th>Redi</th>\n",
       "      <th>Ritz</th>\n",
       "      <th>S</th>\n",
       "      <th>SELTOS</th>\n",
       "      <th>Santro</th>\n",
       "      <th>Scorpio</th>\n",
       "      <th>Sunny</th>\n",
       "      <th>Superb</th>\n",
       "      <th>Swift</th>\n",
       "      <th>TIGOR</th>\n",
       "      <th>TRIBER</th>\n",
       "      <th>TUV300</th>\n",
       "      <th>Terrano</th>\n",
       "      <th>Thar</th>\n",
       "      <th>Tiago</th>\n",
       "      <th>Tucson</th>\n",
       "      <th>VENUE</th>\n",
       "      <th>Vento</th>\n",
       "      <th>Verna</th>\n",
       "      <th>Vitara</th>\n",
       "      <th>WR-V</th>\n",
       "      <th>Wagon</th>\n",
       "      <th>X1</th>\n",
       "      <th>XL6</th>\n",
       "      <th>XUV</th>\n",
       "      <th>XUV500</th>\n",
       "      <th>Xcent</th>\n",
       "      <th>YARIS</th>\n",
       "      <th>Zen</th>\n",
       "      <th>i10</th>\n",
       "      <th>i20</th>\n",
       "    </tr>\n",
       "  </thead>\n",
       "  <tbody>\n",
       "    <tr>\n",
       "      <td>0</td>\n",
       "      <td>69894</td>\n",
       "      <td>474699</td>\n",
       "      <td>2017</td>\n",
       "      <td>1</td>\n",
       "      <td>0</td>\n",
       "      <td>0</td>\n",
       "      <td>1</td>\n",
       "      <td>0</td>\n",
       "      <td>0</td>\n",
       "      <td>0</td>\n",
       "      <td>0</td>\n",
       "      <td>0</td>\n",
       "      <td>0</td>\n",
       "      <td>0</td>\n",
       "      <td>0</td>\n",
       "      <td>0</td>\n",
       "      <td>0</td>\n",
       "      <td>0</td>\n",
       "      <td>0</td>\n",
       "      <td>0</td>\n",
       "      <td>0</td>\n",
       "      <td>0</td>\n",
       "      <td>0</td>\n",
       "      <td>0</td>\n",
       "      <td>0</td>\n",
       "      <td>0</td>\n",
       "      <td>0</td>\n",
       "      <td>0</td>\n",
       "      <td>0</td>\n",
       "      <td>0</td>\n",
       "      <td>0</td>\n",
       "      <td>0</td>\n",
       "      <td>0</td>\n",
       "      <td>0</td>\n",
       "      <td>0</td>\n",
       "      <td>0</td>\n",
       "      <td>0</td>\n",
       "      <td>0</td>\n",
       "      <td>0</td>\n",
       "      <td>0</td>\n",
       "      <td>0</td>\n",
       "      <td>1</td>\n",
       "      <td>0</td>\n",
       "      <td>0</td>\n",
       "      <td>0</td>\n",
       "      <td>0</td>\n",
       "      <td>0</td>\n",
       "      <td>0</td>\n",
       "      <td>0</td>\n",
       "      <td>0</td>\n",
       "      <td>0</td>\n",
       "      <td>0</td>\n",
       "      <td>0</td>\n",
       "      <td>0</td>\n",
       "      <td>0</td>\n",
       "      <td>0</td>\n",
       "      <td>1</td>\n",
       "      <td>0</td>\n",
       "      <td>0</td>\n",
       "      <td>0</td>\n",
       "      <td>0</td>\n",
       "      <td>0</td>\n",
       "      <td>0</td>\n",
       "      <td>0</td>\n",
       "      <td>0</td>\n",
       "      <td>0</td>\n",
       "      <td>0</td>\n",
       "      <td>0</td>\n",
       "      <td>0</td>\n",
       "      <td>0</td>\n",
       "      <td>0</td>\n",
       "      <td>0</td>\n",
       "      <td>0</td>\n",
       "      <td>0</td>\n",
       "      <td>0</td>\n",
       "      <td>0</td>\n",
       "      <td>0</td>\n",
       "      <td>0</td>\n",
       "      <td>0</td>\n",
       "      <td>0</td>\n",
       "      <td>0</td>\n",
       "      <td>0</td>\n",
       "      <td>0</td>\n",
       "      <td>0</td>\n",
       "      <td>0</td>\n",
       "      <td>0</td>\n",
       "      <td>0</td>\n",
       "      <td>0</td>\n",
       "      <td>0</td>\n",
       "      <td>0</td>\n",
       "      <td>0</td>\n",
       "      <td>0</td>\n",
       "      <td>0</td>\n",
       "      <td>0</td>\n",
       "      <td>0</td>\n",
       "      <td>0</td>\n",
       "      <td>0</td>\n",
       "      <td>0</td>\n",
       "      <td>0</td>\n",
       "      <td>0</td>\n",
       "      <td>0</td>\n",
       "      <td>0</td>\n",
       "      <td>0</td>\n",
       "      <td>0</td>\n",
       "      <td>0</td>\n",
       "      <td>0</td>\n",
       "      <td>0</td>\n",
       "      <td>0</td>\n",
       "      <td>0</td>\n",
       "      <td>0</td>\n",
       "      <td>0</td>\n",
       "      <td>0</td>\n",
       "      <td>0</td>\n",
       "      <td>0</td>\n",
       "      <td>0</td>\n",
       "      <td>0</td>\n",
       "      <td>0</td>\n",
       "      <td>0</td>\n",
       "      <td>0</td>\n",
       "      <td>0</td>\n",
       "      <td>0</td>\n",
       "      <td>0</td>\n",
       "      <td>0</td>\n",
       "      <td>0</td>\n",
       "      <td>0</td>\n",
       "      <td>0</td>\n",
       "      <td>0</td>\n",
       "      <td>0</td>\n",
       "      <td>0</td>\n",
       "      <td>0</td>\n",
       "      <td>0</td>\n",
       "      <td>0</td>\n",
       "      <td>0</td>\n",
       "      <td>0</td>\n",
       "      <td>0</td>\n",
       "      <td>1</td>\n",
       "      <td>0</td>\n",
       "      <td>0</td>\n",
       "      <td>0</td>\n",
       "      <td>0</td>\n",
       "      <td>0</td>\n",
       "      <td>0</td>\n",
       "      <td>0</td>\n",
       "      <td>0</td>\n",
       "      <td>0</td>\n",
       "      <td>0</td>\n",
       "      <td>0</td>\n",
       "      <td>0</td>\n",
       "      <td>0</td>\n",
       "      <td>0</td>\n",
       "      <td>0</td>\n",
       "      <td>0</td>\n",
       "      <td>0</td>\n",
       "      <td>0</td>\n",
       "      <td>0</td>\n",
       "      <td>0</td>\n",
       "      <td>0</td>\n",
       "      <td>0</td>\n",
       "    </tr>\n",
       "    <tr>\n",
       "      <td>1</td>\n",
       "      <td>20685</td>\n",
       "      <td>356699</td>\n",
       "      <td>2017</td>\n",
       "      <td>1</td>\n",
       "      <td>0</td>\n",
       "      <td>0</td>\n",
       "      <td>0</td>\n",
       "      <td>0</td>\n",
       "      <td>1</td>\n",
       "      <td>0</td>\n",
       "      <td>0</td>\n",
       "      <td>0</td>\n",
       "      <td>1</td>\n",
       "      <td>0</td>\n",
       "      <td>0</td>\n",
       "      <td>1</td>\n",
       "      <td>0</td>\n",
       "      <td>0</td>\n",
       "      <td>0</td>\n",
       "      <td>0</td>\n",
       "      <td>0</td>\n",
       "      <td>0</td>\n",
       "      <td>0</td>\n",
       "      <td>0</td>\n",
       "      <td>0</td>\n",
       "      <td>0</td>\n",
       "      <td>0</td>\n",
       "      <td>0</td>\n",
       "      <td>0</td>\n",
       "      <td>0</td>\n",
       "      <td>0</td>\n",
       "      <td>0</td>\n",
       "      <td>0</td>\n",
       "      <td>0</td>\n",
       "      <td>0</td>\n",
       "      <td>0</td>\n",
       "      <td>0</td>\n",
       "      <td>0</td>\n",
       "      <td>0</td>\n",
       "      <td>0</td>\n",
       "      <td>0</td>\n",
       "      <td>1</td>\n",
       "      <td>0</td>\n",
       "      <td>0</td>\n",
       "      <td>0</td>\n",
       "      <td>0</td>\n",
       "      <td>0</td>\n",
       "      <td>0</td>\n",
       "      <td>0</td>\n",
       "      <td>0</td>\n",
       "      <td>0</td>\n",
       "      <td>0</td>\n",
       "      <td>0</td>\n",
       "      <td>0</td>\n",
       "      <td>0</td>\n",
       "      <td>0</td>\n",
       "      <td>1</td>\n",
       "      <td>0</td>\n",
       "      <td>0</td>\n",
       "      <td>0</td>\n",
       "      <td>0</td>\n",
       "      <td>0</td>\n",
       "      <td>0</td>\n",
       "      <td>0</td>\n",
       "      <td>0</td>\n",
       "      <td>0</td>\n",
       "      <td>0</td>\n",
       "      <td>0</td>\n",
       "      <td>0</td>\n",
       "      <td>0</td>\n",
       "      <td>0</td>\n",
       "      <td>0</td>\n",
       "      <td>0</td>\n",
       "      <td>0</td>\n",
       "      <td>0</td>\n",
       "      <td>0</td>\n",
       "      <td>0</td>\n",
       "      <td>0</td>\n",
       "      <td>0</td>\n",
       "      <td>0</td>\n",
       "      <td>0</td>\n",
       "      <td>0</td>\n",
       "      <td>0</td>\n",
       "      <td>0</td>\n",
       "      <td>0</td>\n",
       "      <td>0</td>\n",
       "      <td>0</td>\n",
       "      <td>0</td>\n",
       "      <td>0</td>\n",
       "      <td>0</td>\n",
       "      <td>0</td>\n",
       "      <td>0</td>\n",
       "      <td>0</td>\n",
       "      <td>0</td>\n",
       "      <td>0</td>\n",
       "      <td>0</td>\n",
       "      <td>0</td>\n",
       "      <td>0</td>\n",
       "      <td>0</td>\n",
       "      <td>0</td>\n",
       "      <td>0</td>\n",
       "      <td>0</td>\n",
       "      <td>0</td>\n",
       "      <td>0</td>\n",
       "      <td>0</td>\n",
       "      <td>0</td>\n",
       "      <td>0</td>\n",
       "      <td>0</td>\n",
       "      <td>0</td>\n",
       "      <td>0</td>\n",
       "      <td>0</td>\n",
       "      <td>0</td>\n",
       "      <td>0</td>\n",
       "      <td>0</td>\n",
       "      <td>0</td>\n",
       "      <td>0</td>\n",
       "      <td>0</td>\n",
       "      <td>0</td>\n",
       "      <td>0</td>\n",
       "      <td>0</td>\n",
       "      <td>0</td>\n",
       "      <td>0</td>\n",
       "      <td>0</td>\n",
       "      <td>0</td>\n",
       "      <td>0</td>\n",
       "      <td>0</td>\n",
       "      <td>0</td>\n",
       "      <td>0</td>\n",
       "      <td>0</td>\n",
       "      <td>0</td>\n",
       "      <td>0</td>\n",
       "      <td>0</td>\n",
       "      <td>0</td>\n",
       "      <td>0</td>\n",
       "      <td>0</td>\n",
       "      <td>0</td>\n",
       "      <td>0</td>\n",
       "      <td>0</td>\n",
       "      <td>0</td>\n",
       "      <td>0</td>\n",
       "      <td>0</td>\n",
       "      <td>0</td>\n",
       "      <td>0</td>\n",
       "      <td>0</td>\n",
       "      <td>0</td>\n",
       "      <td>0</td>\n",
       "      <td>0</td>\n",
       "      <td>0</td>\n",
       "      <td>1</td>\n",
       "      <td>0</td>\n",
       "      <td>0</td>\n",
       "      <td>0</td>\n",
       "      <td>0</td>\n",
       "      <td>0</td>\n",
       "      <td>0</td>\n",
       "      <td>0</td>\n",
       "      <td>0</td>\n",
       "      <td>0</td>\n",
       "    </tr>\n",
       "    <tr>\n",
       "      <td>2</td>\n",
       "      <td>31245</td>\n",
       "      <td>798699</td>\n",
       "      <td>2019</td>\n",
       "      <td>1</td>\n",
       "      <td>0</td>\n",
       "      <td>0</td>\n",
       "      <td>1</td>\n",
       "      <td>0</td>\n",
       "      <td>0</td>\n",
       "      <td>0</td>\n",
       "      <td>0</td>\n",
       "      <td>0</td>\n",
       "      <td>0</td>\n",
       "      <td>0</td>\n",
       "      <td>0</td>\n",
       "      <td>0</td>\n",
       "      <td>0</td>\n",
       "      <td>0</td>\n",
       "      <td>0</td>\n",
       "      <td>0</td>\n",
       "      <td>0</td>\n",
       "      <td>0</td>\n",
       "      <td>0</td>\n",
       "      <td>0</td>\n",
       "      <td>0</td>\n",
       "      <td>0</td>\n",
       "      <td>0</td>\n",
       "      <td>0</td>\n",
       "      <td>0</td>\n",
       "      <td>0</td>\n",
       "      <td>0</td>\n",
       "      <td>0</td>\n",
       "      <td>0</td>\n",
       "      <td>0</td>\n",
       "      <td>0</td>\n",
       "      <td>0</td>\n",
       "      <td>0</td>\n",
       "      <td>0</td>\n",
       "      <td>0</td>\n",
       "      <td>0</td>\n",
       "      <td>0</td>\n",
       "      <td>1</td>\n",
       "      <td>0</td>\n",
       "      <td>0</td>\n",
       "      <td>0</td>\n",
       "      <td>0</td>\n",
       "      <td>0</td>\n",
       "      <td>0</td>\n",
       "      <td>0</td>\n",
       "      <td>0</td>\n",
       "      <td>0</td>\n",
       "      <td>0</td>\n",
       "      <td>0</td>\n",
       "      <td>0</td>\n",
       "      <td>0</td>\n",
       "      <td>0</td>\n",
       "      <td>1</td>\n",
       "      <td>0</td>\n",
       "      <td>0</td>\n",
       "      <td>0</td>\n",
       "      <td>0</td>\n",
       "      <td>0</td>\n",
       "      <td>0</td>\n",
       "      <td>0</td>\n",
       "      <td>0</td>\n",
       "      <td>0</td>\n",
       "      <td>0</td>\n",
       "      <td>0</td>\n",
       "      <td>0</td>\n",
       "      <td>0</td>\n",
       "      <td>0</td>\n",
       "      <td>0</td>\n",
       "      <td>0</td>\n",
       "      <td>0</td>\n",
       "      <td>0</td>\n",
       "      <td>0</td>\n",
       "      <td>0</td>\n",
       "      <td>0</td>\n",
       "      <td>0</td>\n",
       "      <td>0</td>\n",
       "      <td>0</td>\n",
       "      <td>0</td>\n",
       "      <td>0</td>\n",
       "      <td>0</td>\n",
       "      <td>0</td>\n",
       "      <td>0</td>\n",
       "      <td>0</td>\n",
       "      <td>0</td>\n",
       "      <td>0</td>\n",
       "      <td>0</td>\n",
       "      <td>0</td>\n",
       "      <td>0</td>\n",
       "      <td>0</td>\n",
       "      <td>0</td>\n",
       "      <td>0</td>\n",
       "      <td>0</td>\n",
       "      <td>0</td>\n",
       "      <td>0</td>\n",
       "      <td>0</td>\n",
       "      <td>0</td>\n",
       "      <td>0</td>\n",
       "      <td>0</td>\n",
       "      <td>0</td>\n",
       "      <td>0</td>\n",
       "      <td>0</td>\n",
       "      <td>0</td>\n",
       "      <td>0</td>\n",
       "      <td>0</td>\n",
       "      <td>0</td>\n",
       "      <td>0</td>\n",
       "      <td>0</td>\n",
       "      <td>0</td>\n",
       "      <td>0</td>\n",
       "      <td>0</td>\n",
       "      <td>0</td>\n",
       "      <td>0</td>\n",
       "      <td>0</td>\n",
       "      <td>0</td>\n",
       "      <td>0</td>\n",
       "      <td>0</td>\n",
       "      <td>0</td>\n",
       "      <td>0</td>\n",
       "      <td>0</td>\n",
       "      <td>0</td>\n",
       "      <td>0</td>\n",
       "      <td>0</td>\n",
       "      <td>0</td>\n",
       "      <td>0</td>\n",
       "      <td>0</td>\n",
       "      <td>0</td>\n",
       "      <td>0</td>\n",
       "      <td>0</td>\n",
       "      <td>0</td>\n",
       "      <td>0</td>\n",
       "      <td>0</td>\n",
       "      <td>0</td>\n",
       "      <td>0</td>\n",
       "      <td>0</td>\n",
       "      <td>0</td>\n",
       "      <td>0</td>\n",
       "      <td>0</td>\n",
       "      <td>0</td>\n",
       "      <td>0</td>\n",
       "      <td>0</td>\n",
       "      <td>0</td>\n",
       "      <td>0</td>\n",
       "      <td>1</td>\n",
       "      <td>0</td>\n",
       "      <td>0</td>\n",
       "      <td>0</td>\n",
       "      <td>0</td>\n",
       "      <td>0</td>\n",
       "      <td>0</td>\n",
       "      <td>0</td>\n",
       "      <td>0</td>\n",
       "      <td>0</td>\n",
       "      <td>0</td>\n",
       "      <td>0</td>\n",
       "    </tr>\n",
       "    <tr>\n",
       "      <td>3</td>\n",
       "      <td>71450</td>\n",
       "      <td>330599</td>\n",
       "      <td>2014</td>\n",
       "      <td>1</td>\n",
       "      <td>0</td>\n",
       "      <td>0</td>\n",
       "      <td>1</td>\n",
       "      <td>0</td>\n",
       "      <td>0</td>\n",
       "      <td>0</td>\n",
       "      <td>0</td>\n",
       "      <td>0</td>\n",
       "      <td>1</td>\n",
       "      <td>0</td>\n",
       "      <td>0</td>\n",
       "      <td>0</td>\n",
       "      <td>0</td>\n",
       "      <td>0</td>\n",
       "      <td>0</td>\n",
       "      <td>0</td>\n",
       "      <td>0</td>\n",
       "      <td>0</td>\n",
       "      <td>0</td>\n",
       "      <td>0</td>\n",
       "      <td>0</td>\n",
       "      <td>0</td>\n",
       "      <td>0</td>\n",
       "      <td>0</td>\n",
       "      <td>0</td>\n",
       "      <td>0</td>\n",
       "      <td>0</td>\n",
       "      <td>0</td>\n",
       "      <td>0</td>\n",
       "      <td>0</td>\n",
       "      <td>0</td>\n",
       "      <td>0</td>\n",
       "      <td>0</td>\n",
       "      <td>0</td>\n",
       "      <td>0</td>\n",
       "      <td>0</td>\n",
       "      <td>0</td>\n",
       "      <td>1</td>\n",
       "      <td>0</td>\n",
       "      <td>0</td>\n",
       "      <td>0</td>\n",
       "      <td>0</td>\n",
       "      <td>0</td>\n",
       "      <td>0</td>\n",
       "      <td>0</td>\n",
       "      <td>0</td>\n",
       "      <td>0</td>\n",
       "      <td>0</td>\n",
       "      <td>0</td>\n",
       "      <td>0</td>\n",
       "      <td>0</td>\n",
       "      <td>0</td>\n",
       "      <td>1</td>\n",
       "      <td>0</td>\n",
       "      <td>0</td>\n",
       "      <td>0</td>\n",
       "      <td>0</td>\n",
       "      <td>0</td>\n",
       "      <td>0</td>\n",
       "      <td>0</td>\n",
       "      <td>0</td>\n",
       "      <td>0</td>\n",
       "      <td>0</td>\n",
       "      <td>0</td>\n",
       "      <td>0</td>\n",
       "      <td>0</td>\n",
       "      <td>0</td>\n",
       "      <td>0</td>\n",
       "      <td>0</td>\n",
       "      <td>0</td>\n",
       "      <td>0</td>\n",
       "      <td>0</td>\n",
       "      <td>0</td>\n",
       "      <td>0</td>\n",
       "      <td>0</td>\n",
       "      <td>0</td>\n",
       "      <td>0</td>\n",
       "      <td>0</td>\n",
       "      <td>0</td>\n",
       "      <td>0</td>\n",
       "      <td>0</td>\n",
       "      <td>0</td>\n",
       "      <td>0</td>\n",
       "      <td>0</td>\n",
       "      <td>0</td>\n",
       "      <td>0</td>\n",
       "      <td>0</td>\n",
       "      <td>0</td>\n",
       "      <td>0</td>\n",
       "      <td>0</td>\n",
       "      <td>0</td>\n",
       "      <td>0</td>\n",
       "      <td>0</td>\n",
       "      <td>0</td>\n",
       "      <td>0</td>\n",
       "      <td>0</td>\n",
       "      <td>0</td>\n",
       "      <td>0</td>\n",
       "      <td>0</td>\n",
       "      <td>0</td>\n",
       "      <td>0</td>\n",
       "      <td>0</td>\n",
       "      <td>0</td>\n",
       "      <td>0</td>\n",
       "      <td>0</td>\n",
       "      <td>0</td>\n",
       "      <td>0</td>\n",
       "      <td>0</td>\n",
       "      <td>0</td>\n",
       "      <td>0</td>\n",
       "      <td>0</td>\n",
       "      <td>0</td>\n",
       "      <td>0</td>\n",
       "      <td>0</td>\n",
       "      <td>0</td>\n",
       "      <td>0</td>\n",
       "      <td>0</td>\n",
       "      <td>0</td>\n",
       "      <td>0</td>\n",
       "      <td>0</td>\n",
       "      <td>0</td>\n",
       "      <td>0</td>\n",
       "      <td>0</td>\n",
       "      <td>0</td>\n",
       "      <td>0</td>\n",
       "      <td>0</td>\n",
       "      <td>0</td>\n",
       "      <td>0</td>\n",
       "      <td>0</td>\n",
       "      <td>0</td>\n",
       "      <td>0</td>\n",
       "      <td>1</td>\n",
       "      <td>0</td>\n",
       "      <td>0</td>\n",
       "      <td>0</td>\n",
       "      <td>0</td>\n",
       "      <td>0</td>\n",
       "      <td>0</td>\n",
       "      <td>0</td>\n",
       "      <td>0</td>\n",
       "      <td>0</td>\n",
       "      <td>0</td>\n",
       "      <td>0</td>\n",
       "      <td>0</td>\n",
       "      <td>0</td>\n",
       "      <td>0</td>\n",
       "      <td>0</td>\n",
       "      <td>0</td>\n",
       "      <td>0</td>\n",
       "      <td>0</td>\n",
       "      <td>0</td>\n",
       "      <td>0</td>\n",
       "      <td>0</td>\n",
       "      <td>0</td>\n",
       "    </tr>\n",
       "    <tr>\n",
       "      <td>4</td>\n",
       "      <td>39487</td>\n",
       "      <td>491299</td>\n",
       "      <td>2013</td>\n",
       "      <td>1</td>\n",
       "      <td>0</td>\n",
       "      <td>0</td>\n",
       "      <td>1</td>\n",
       "      <td>0</td>\n",
       "      <td>0</td>\n",
       "      <td>0</td>\n",
       "      <td>0</td>\n",
       "      <td>0</td>\n",
       "      <td>0</td>\n",
       "      <td>0</td>\n",
       "      <td>0</td>\n",
       "      <td>0</td>\n",
       "      <td>0</td>\n",
       "      <td>0</td>\n",
       "      <td>0</td>\n",
       "      <td>0</td>\n",
       "      <td>0</td>\n",
       "      <td>0</td>\n",
       "      <td>0</td>\n",
       "      <td>0</td>\n",
       "      <td>0</td>\n",
       "      <td>0</td>\n",
       "      <td>0</td>\n",
       "      <td>0</td>\n",
       "      <td>0</td>\n",
       "      <td>0</td>\n",
       "      <td>0</td>\n",
       "      <td>0</td>\n",
       "      <td>0</td>\n",
       "      <td>0</td>\n",
       "      <td>0</td>\n",
       "      <td>0</td>\n",
       "      <td>0</td>\n",
       "      <td>0</td>\n",
       "      <td>0</td>\n",
       "      <td>0</td>\n",
       "      <td>0</td>\n",
       "      <td>1</td>\n",
       "      <td>0</td>\n",
       "      <td>0</td>\n",
       "      <td>0</td>\n",
       "      <td>0</td>\n",
       "      <td>0</td>\n",
       "      <td>0</td>\n",
       "      <td>0</td>\n",
       "      <td>0</td>\n",
       "      <td>0</td>\n",
       "      <td>0</td>\n",
       "      <td>0</td>\n",
       "      <td>0</td>\n",
       "      <td>0</td>\n",
       "      <td>0</td>\n",
       "      <td>1</td>\n",
       "      <td>0</td>\n",
       "      <td>0</td>\n",
       "      <td>0</td>\n",
       "      <td>0</td>\n",
       "      <td>0</td>\n",
       "      <td>0</td>\n",
       "      <td>0</td>\n",
       "      <td>0</td>\n",
       "      <td>0</td>\n",
       "      <td>0</td>\n",
       "      <td>0</td>\n",
       "      <td>0</td>\n",
       "      <td>0</td>\n",
       "      <td>0</td>\n",
       "      <td>0</td>\n",
       "      <td>0</td>\n",
       "      <td>0</td>\n",
       "      <td>0</td>\n",
       "      <td>0</td>\n",
       "      <td>0</td>\n",
       "      <td>0</td>\n",
       "      <td>0</td>\n",
       "      <td>0</td>\n",
       "      <td>0</td>\n",
       "      <td>0</td>\n",
       "      <td>0</td>\n",
       "      <td>0</td>\n",
       "      <td>0</td>\n",
       "      <td>0</td>\n",
       "      <td>0</td>\n",
       "      <td>0</td>\n",
       "      <td>0</td>\n",
       "      <td>0</td>\n",
       "      <td>0</td>\n",
       "      <td>0</td>\n",
       "      <td>0</td>\n",
       "      <td>0</td>\n",
       "      <td>0</td>\n",
       "      <td>1</td>\n",
       "      <td>0</td>\n",
       "      <td>0</td>\n",
       "      <td>0</td>\n",
       "      <td>0</td>\n",
       "      <td>0</td>\n",
       "      <td>0</td>\n",
       "      <td>0</td>\n",
       "      <td>0</td>\n",
       "      <td>0</td>\n",
       "      <td>0</td>\n",
       "      <td>0</td>\n",
       "      <td>0</td>\n",
       "      <td>0</td>\n",
       "      <td>0</td>\n",
       "      <td>0</td>\n",
       "      <td>0</td>\n",
       "      <td>0</td>\n",
       "      <td>0</td>\n",
       "      <td>0</td>\n",
       "      <td>0</td>\n",
       "      <td>0</td>\n",
       "      <td>0</td>\n",
       "      <td>0</td>\n",
       "      <td>0</td>\n",
       "      <td>0</td>\n",
       "      <td>0</td>\n",
       "      <td>0</td>\n",
       "      <td>0</td>\n",
       "      <td>0</td>\n",
       "      <td>0</td>\n",
       "      <td>0</td>\n",
       "      <td>0</td>\n",
       "      <td>0</td>\n",
       "      <td>0</td>\n",
       "      <td>0</td>\n",
       "      <td>0</td>\n",
       "      <td>0</td>\n",
       "      <td>0</td>\n",
       "      <td>0</td>\n",
       "      <td>0</td>\n",
       "      <td>0</td>\n",
       "      <td>0</td>\n",
       "      <td>0</td>\n",
       "      <td>0</td>\n",
       "      <td>0</td>\n",
       "      <td>0</td>\n",
       "      <td>0</td>\n",
       "      <td>0</td>\n",
       "      <td>0</td>\n",
       "      <td>0</td>\n",
       "      <td>0</td>\n",
       "      <td>0</td>\n",
       "      <td>0</td>\n",
       "      <td>0</td>\n",
       "      <td>0</td>\n",
       "      <td>0</td>\n",
       "      <td>0</td>\n",
       "      <td>0</td>\n",
       "      <td>0</td>\n",
       "      <td>0</td>\n",
       "      <td>0</td>\n",
       "      <td>0</td>\n",
       "    </tr>\n",
       "  </tbody>\n",
       "</table>\n",
       "</div>"
      ],
      "text/plain": [
       "   Mileage   Price  Year  Manual  1.5-2.0 Liter  2.0+ Liter  Basic Diesel  \\\n",
       "0    69894  474699  2017       1              0           0             1   \n",
       "1    20685  356699  2017       1              0           0             0   \n",
       "2    31245  798699  2019       1              0           0             1   \n",
       "3    71450  330599  2014       1              0           0             1   \n",
       "4    39487  491299  2013       1              0           0             1   \n",
       "\n",
       "   Basic Petrol  Middle Petrol  Other  Top Diesel  Top Petrol  2nd Owner  \\\n",
       "0             0              0      0           0           0          0   \n",
       "1             0              1      0           0           0          1   \n",
       "2             0              0      0           0           0          0   \n",
       "3             0              0      0           0           0          1   \n",
       "4             0              0      0           0           0          0   \n",
       "\n",
       "   3rd Owner  4th Owner  Petrol  Petrol + CNG  Petrol + LPG  Bengaluru  \\\n",
       "0          0          0       0             0             0          0   \n",
       "1          0          0       1             0             0          0   \n",
       "2          0          0       0             0             0          0   \n",
       "3          0          0       0             0             0          0   \n",
       "4          0          0       0             0             0          0   \n",
       "\n",
       "   Bhopal  Chandigarh  Chennai  Delhi  Faridabad  Ghaziabad  Gurgaon  \\\n",
       "0       0           0        0      0          0          0        0   \n",
       "1       0           0        0      0          0          0        0   \n",
       "2       0           0        0      0          0          0        0   \n",
       "3       0           0        0      0          0          0        0   \n",
       "4       0           0        0      0          0          0        0   \n",
       "\n",
       "   Hyderabad  Indore  Jaipur  Kochi  Kolkata  Lucknow  Ludhiana  Meerut  \\\n",
       "0          0       0       0      0        0        0         0       0   \n",
       "1          0       0       0      0        0        0         0       0   \n",
       "2          0       0       0      0        0        0         0       0   \n",
       "3          0       0       0      0        0        0         0       0   \n",
       "4          0       0       0      0        0        0         0       0   \n",
       "\n",
       "   Mumbai  Nagpur  Nasik  Noida  Panipat  Pune  Rajkot  Rohtak  Sonipat  \\\n",
       "0       0       0      0      0        0     0       0       1        0   \n",
       "1       0       0      0      0        0     0       0       1        0   \n",
       "2       0       0      0      0        0     0       0       1        0   \n",
       "3       0       0      0      0        0     0       0       1        0   \n",
       "4       0       0      0      0        0     0       0       1        0   \n",
       "\n",
       "   Surat  Vadodara  Zirakpur  BMW  Datsun  Ford  Honda  Hyundai  Jeep  KIA  \\\n",
       "0      0         0         0    0       0     0      0        0     0    0   \n",
       "1      0         0         0    0       0     0      0        0     0    0   \n",
       "2      0         0         0    0       0     0      0        0     0    0   \n",
       "3      0         0         0    0       0     0      0        0     0    0   \n",
       "4      0         0         0    0       0     0      0        0     0    0   \n",
       "\n",
       "   Landrover  MG  Mahindra  Maruti  Mercedes  Nissan  RENAULT  Renault  Skoda  \\\n",
       "0          0   0         0       1         0       0        0        0      0   \n",
       "1          0   0         0       1         0       0        0        0      0   \n",
       "2          0   0         0       1         0       0        0        0      0   \n",
       "3          0   0         0       1         0       0        0        0      0   \n",
       "4          0   0         0       1         0       0        0        0      0   \n",
       "\n",
       "   Tata  Toyota  Volkswagen  A  A3  A4  ALTROZ  AURA  Alto  Amaze  Ameo  BR-V  \\\n",
       "0     0       0           0  0   0   0       0     0     0      0     0     0   \n",
       "1     0       0           0  0   0   0       0     0     0      0     0     0   \n",
       "2     0       0           0  0   0   0       0     0     0      0     0     0   \n",
       "3     0       0           0  0   0   0       0     0     0      0     0     0   \n",
       "4     0       0           0  0   0   0       0     0     0      0     0     0   \n",
       "\n",
       "   Baleno  Benz  Bolero  Brio  CRV  Camry  Captur  Celerio  Ciaz  City  Civic  \\\n",
       "0       0     0       0     0    0      0       0        0     0     0      0   \n",
       "1       0     0       0     0    0      0       0        0     0     0      0   \n",
       "2       0     0       0     0    0      0       0        0     0     0      0   \n",
       "3       0     0       0     0    0      0       0        0     0     0      0   \n",
       "4       0     0       0     0    0      0       0        0     0     0      0   \n",
       "\n",
       "   Compass  Corolla  Creta  Duster  Dzire  Ecosport  Eeco  Elite  Endeavour  \\\n",
       "0        0        0      0       0      0         0     0      0          0   \n",
       "1        0        0      0       0      0         0     0      0          0   \n",
       "2        0        0      0       0      0         0     0      0          0   \n",
       "3        0        0      0       0      0         0     0      0          0   \n",
       "4        0        0      0       0      0         0     0      0          0   \n",
       "\n",
       "   Eon  Ertiga  Etios  FREESTYLE  Figo  Fortuner  Freelander  GRAND  Glanza  \\\n",
       "0    0       0      0          0     0         0           0      0       0   \n",
       "1    0       0      0          0     0         0           0      0       0   \n",
       "2    0       0      0          0     0         0           0      0       0   \n",
       "3    0       0      0          0     0         0           0      0       0   \n",
       "4    0       1      0          0     0         0           0      0       0   \n",
       "\n",
       "   Go  Grand  HECTOR  Harrier  Hexa  IGNIS  Innova  Jazz  KAROQ  Kiger  \\\n",
       "0   0      0       0        0     0      0       0     0      0      0   \n",
       "1   0      0       0        0     0      0       0     0      0      0   \n",
       "2   0      0       0        0     0      0       0     0      0      0   \n",
       "3   0      0       0        0     0      0       0     0      0      0   \n",
       "4   0      0       0        0     0      0       0     0      0      0   \n",
       "\n",
       "   Kuv100  Kwid  MARAZZO  Micra  Mobilio  NEW  NEXON  Nano  New  OMNI  \\\n",
       "0       0     0        0      0        0    0      0     0    0     0   \n",
       "1       0     0        0      0        0    0      0     0    0     0   \n",
       "2       0     0        0      0        0    0      0     0    0     0   \n",
       "3       0     0        0      0        0    0      0     0    0     0   \n",
       "4       0     0        0      0        0    0      0     0    0     0   \n",
       "\n",
       "   Octavia  Polo  Q3  Rapid  Redi  Ritz  S  SELTOS  Santro  Scorpio  Sunny  \\\n",
       "0        0     0   0      0     0     0  0       0       0        0      0   \n",
       "1        0     0   0      0     0     0  0       0       0        0      0   \n",
       "2        0     0   0      0     0     0  0       0       0        0      0   \n",
       "3        0     0   0      0     0     0  0       0       0        0      0   \n",
       "4        0     0   0      0     0     0  0       0       0        0      0   \n",
       "\n",
       "   Superb  Swift  TIGOR  TRIBER  TUV300  Terrano  Thar  Tiago  Tucson  VENUE  \\\n",
       "0       0      1      0       0       0        0     0      0       0      0   \n",
       "1       0      0      0       0       0        0     0      0       0      0   \n",
       "2       0      0      0       0       0        0     0      0       0      0   \n",
       "3       0      1      0       0       0        0     0      0       0      0   \n",
       "4       0      0      0       0       0        0     0      0       0      0   \n",
       "\n",
       "   Vento  Verna  Vitara  WR-V  Wagon  X1  XL6  XUV  XUV500  Xcent  YARIS  Zen  \\\n",
       "0      0      0       0     0      0   0    0    0       0      0      0    0   \n",
       "1      0      0       0     0      1   0    0    0       0      0      0    0   \n",
       "2      0      0       1     0      0   0    0    0       0      0      0    0   \n",
       "3      0      0       0     0      0   0    0    0       0      0      0    0   \n",
       "4      0      0       0     0      0   0    0    0       0      0      0    0   \n",
       "\n",
       "   i10  i20  \n",
       "0    0    0  \n",
       "1    0    0  \n",
       "2    0    0  \n",
       "3    0    0  \n",
       "4    0    0  "
      ]
     },
     "execution_count": 62,
     "metadata": {},
     "output_type": "execute_result"
    }
   ],
   "source": [
    "df.head()"
   ]
  },
  {
   "cell_type": "code",
   "execution_count": 63,
   "metadata": {},
   "outputs": [
    {
     "name": "stdout",
     "output_type": "stream",
     "text": [
      "X Train Shape  (4381, 157)\n",
      "Y Train Shape  (4381,)\n",
      "X Test Shape  (1096, 157)\n",
      "Y Test Shape  (1096,)\n"
     ]
    }
   ],
   "source": [
    "X=df.drop(['Price'], axis = 1, inplace = False) # Training variables\n",
    "y=df['Price'] # Testing variables\n",
    "\n",
    "X_train, X_test, y_train, y_test = train_test_split(X, y, test_size=0.20, random_state=1)\n",
    "\n",
    "print(\"X Train Shape \",X_train.shape)\n",
    "print(\"Y Train Shape \",y_train.shape)\n",
    "\n",
    "print(\"X Test Shape \",X_test.shape)\n",
    "print(\"Y Test Shape \",y_test.shape)"
   ]
  },
  {
   "cell_type": "markdown",
   "metadata": {},
   "source": [
    "# Decision tree regressor"
   ]
  },
  {
   "cell_type": "code",
   "execution_count": 64,
   "metadata": {},
   "outputs": [
    {
     "data": {
      "text/plain": [
       "0.9617055754619144"
      ]
     },
     "execution_count": 64,
     "metadata": {},
     "output_type": "execute_result"
    }
   ],
   "source": [
    "dtr = DecisionTreeRegressor(random_state=5)\n",
    "dtr.fit(X_train, y_train)\n",
    "y_pred_dt = dtr.predict(X_test)\n",
    "dtr.score(X_test, y_test)"
   ]
  },
  {
   "cell_type": "code",
   "execution_count": 65,
   "metadata": {},
   "outputs": [
    {
     "name": "stdout",
     "output_type": "stream",
     "text": [
      "0.9035074894367207\n"
     ]
    }
   ],
   "source": [
    "scr = cross_val_score(dtr, X,y, cv=4)\n",
    "print(scr.mean())"
   ]
  },
  {
   "cell_type": "code",
   "execution_count": 66,
   "metadata": {},
   "outputs": [
    {
     "name": "stdout",
     "output_type": "stream",
     "text": [
      "Mean absolute error = 24779.65\n",
      "Mean squared error = 4311144680.66\n",
      "Median absolute error = 0.0\n",
      "Explain variance score = 0.96\n",
      "R2 score = 0.96\n"
     ]
    }
   ],
   "source": [
    "print(\"Mean absolute error =\", round(sm.mean_absolute_error(y_test, y_pred_dt), 2)) \n",
    "print(\"Mean squared error =\", round(sm.mean_squared_error(y_test, y_pred_dt), 2)) \n",
    "print(\"Median absolute error =\", round(sm.median_absolute_error(y_test, y_pred_dt), 2)) \n",
    "print(\"Explain variance score =\", round(sm.explained_variance_score(y_test, y_pred_dt), 2)) \n",
    "print(\"R2 score =\", round(sm.r2_score(y_test, y_pred_dt), 2))"
   ]
  },
  {
   "cell_type": "markdown",
   "metadata": {},
   "source": [
    "# Random forest regression"
   ]
  },
  {
   "cell_type": "code",
   "execution_count": 67,
   "metadata": {},
   "outputs": [
    {
     "data": {
      "text/plain": [
       "0.9715350450192743"
      ]
     },
     "execution_count": 67,
     "metadata": {},
     "output_type": "execute_result"
    }
   ],
   "source": [
    "rfr = RandomForestRegressor(random_state=1)\n",
    "rfr.fit(X_train, y_train)\n",
    "y_pred_rfr = rfr.predict(X_test)\n",
    "rfr.score(X_test, y_test)"
   ]
  },
  {
   "cell_type": "code",
   "execution_count": 68,
   "metadata": {},
   "outputs": [
    {
     "name": "stdout",
     "output_type": "stream",
     "text": [
      "0.927041965155807\n"
     ]
    }
   ],
   "source": [
    "scr = cross_val_score(rfr, X,y, cv=4)\n",
    "print(scr.mean())"
   ]
  },
  {
   "cell_type": "code",
   "execution_count": 69,
   "metadata": {},
   "outputs": [
    {
     "name": "stdout",
     "output_type": "stream",
     "text": [
      "Mean absolute error = 26721.04\n",
      "Mean squared error = 3204553684.53\n",
      "Median absolute error = 8893.5\n",
      "Explain variance score = 0.97\n",
      "R2 score = 0.97\n"
     ]
    }
   ],
   "source": [
    "print(\"Mean absolute error =\", round(sm.mean_absolute_error(y_test, y_pred_rfr), 2)) \n",
    "print(\"Mean squared error =\", round(sm.mean_squared_error(y_test, y_pred_rfr), 2)) \n",
    "print(\"Median absolute error =\", round(sm.median_absolute_error(y_test, y_pred_rfr), 2)) \n",
    "print(\"Explain variance score =\", round(sm.explained_variance_score(y_test, y_pred_rfr), 2)) \n",
    "print(\"R2 score =\", round(sm.r2_score(y_test, y_pred_rfr), 2))"
   ]
  },
  {
   "cell_type": "code",
   "execution_count": 70,
   "metadata": {},
   "outputs": [
    {
     "data": {
      "image/png": "[encoded data removed]",
      "text/plain": [
       "<Figure size 576x576 with 1 Axes>"
      ]
     },
     "metadata": {
      "needs_background": "light"
     },
     "output_type": "display_data"
    }
   ],
   "source": [
    "plt.figure(figsize=(8,8))\n",
    "plt.scatter(y_test,y_pred_rfr)\n",
    "plt.xlabel(\"Actual value of car\")\n",
    "plt.ylabel(\"Predicted value of car\")\n",
    "plt.ticklabel_format(style='plain', axis='y')\n",
    "plt.ticklabel_format(style='plain', axis='x')"
   ]
  },
  {
   "cell_type": "code",
   "execution_count": 71,
   "metadata": {},
   "outputs": [
    {
     "data": {
      "text/plain": [
       "<matplotlib.axes._subplots.AxesSubplot at 0x2dbc625d648>"
      ]
     },
     "execution_count": 71,
     "metadata": {},
     "output_type": "execute_result"
    },
    {
     "data": {
      "image/png": "[encoded data removed]",
      "text/plain": [
       "<Figure size 576x576 with 1 Axes>"
      ]
     },
     "metadata": {
      "needs_background": "light"
     },
     "output_type": "display_data"
    }
   ],
   "source": [
    "plt.figure(figsize=(8,8))\n",
    "sns.distplot(y_test-y_pred_rfr)"
   ]
  },
  {
   "cell_type": "markdown",
   "metadata": {},
   "source": [
    "# Taking log of Price, Mileage and min-max of year data"
   ]
  },
  {
   "cell_type": "code",
   "execution_count": 72,
   "metadata": {},
   "outputs": [],
   "source": [
    "df['Price'] = np.log(df['Price'])\n",
    "df['Mileage'] = np.log(df['Mileage'])\n",
    "df['Year']=(df['Year']-df['Year'].min())/(df['Year'].max()-df['Year'].min())"
   ]
  },
  {
   "cell_type": "code",
   "execution_count": 73,
   "metadata": {},
   "outputs": [
    {
     "name": "stdout",
     "output_type": "stream",
     "text": [
      "X Train Shape  (4381, 157)\n",
      "Y Train Shape  (4381,)\n",
      "X Test Shape  (1096, 157)\n",
      "Y Test Shape  (1096,)\n"
     ]
    }
   ],
   "source": [
    "X=df.drop(['Price'], axis = 1, inplace = False)\n",
    "y=df['Price']\n",
    "\n",
    "X_train, X_test, y_train, y_test = train_test_split(X, y, test_size=0.20, random_state=1)\n",
    "\n",
    "print(\"X Train Shape \",X_train.shape)\n",
    "print(\"Y Train Shape \",y_train.shape)\n",
    "\n",
    "print(\"X Test Shape \",X_test.shape)\n",
    "print(\"Y Test Shape \",y_test.shape)"
   ]
  },
  {
   "cell_type": "markdown",
   "metadata": {},
   "source": [
    "# Random forest regression"
   ]
  },
  {
   "cell_type": "code",
   "execution_count": 74,
   "metadata": {},
   "outputs": [
    {
     "data": {
      "text/plain": [
       "0.9661812646769377"
      ]
     },
     "execution_count": 74,
     "metadata": {},
     "output_type": "execute_result"
    }
   ],
   "source": [
    "rfr = RandomForestRegressor(random_state=1)\n",
    "rfr.fit(X_train, y_train)\n",
    "y_pred_rfr = rfr.predict(X_test)\n",
    "rfr.score(X_test, y_test)"
   ]
  },
  {
   "cell_type": "code",
   "execution_count": 75,
   "metadata": {},
   "outputs": [
    {
     "name": "stdout",
     "output_type": "stream",
     "text": [
      "0.9270210511225838\n"
     ]
    }
   ],
   "source": [
    "scr = cross_val_score(rfr, X,y, cv=4)\n",
    "print(scr.mean())"
   ]
  },
  {
   "cell_type": "markdown",
   "metadata": {},
   "source": [
    "# Decision tree regressor"
   ]
  },
  {
   "cell_type": "code",
   "execution_count": 76,
   "metadata": {},
   "outputs": [
    {
     "data": {
      "text/plain": [
       "0.9456529813830211"
      ]
     },
     "execution_count": 76,
     "metadata": {},
     "output_type": "execute_result"
    }
   ],
   "source": [
    "from sklearn.tree import DecisionTreeRegressor\n",
    "dtr = DecisionTreeRegressor(random_state=5)\n",
    "dtr.fit(X_train, y_train)\n",
    "y_pred_dt = dtr.predict(X_test)\n",
    "dtr.score(X_test, y_test)"
   ]
  },
  {
   "cell_type": "code",
   "execution_count": 77,
   "metadata": {},
   "outputs": [
    {
     "name": "stdout",
     "output_type": "stream",
     "text": [
      "0.9001138255571381\n"
     ]
    }
   ],
   "source": [
    "scr = cross_val_score(dtr, X,y, cv=4)\n",
    "print(scr.mean())"
   ]
  },
  {
   "cell_type": "code",
   "execution_count": 78,
   "metadata": {},
   "outputs": [
    {
     "data": {
      "image/png": "[encoded data removed]",
      "text/plain": [
       "<Figure size 576x576 with 1 Axes>"
      ]
     },
     "metadata": {
      "needs_background": "light"
     },
     "output_type": "display_data"
    }
   ],
   "source": [
    "plt.figure(figsize=(8,8)) # Scatter plot of predicted vs actual values\n",
    "plt.scatter(e**(y_test),e**(y_pred_rfr))\n",
    "plt.xlabel(\"Actual value of car\")\n",
    "plt.ylabel(\"Predicted value of car\")\n",
    "plt.ticklabel_format(style='plain', axis='y')\n",
    "plt.ticklabel_format(style='plain', axis='x')"
   ]
  },
  {
   "cell_type": "code",
   "execution_count": 79,
   "metadata": {},
   "outputs": [
    {
     "data": {
      "text/plain": [
       "<matplotlib.axes._subplots.AxesSubplot at 0x2dbc6377048>"
      ]
     },
     "execution_count": 79,
     "metadata": {},
     "output_type": "execute_result"
    },
    {
     "data": {
      "image/png": "[encoded data removed]",
      "text/plain": [
       "<Figure size 576x576 with 1 Axes>"
      ]
     },
     "metadata": {
      "needs_background": "light"
     },
     "output_type": "display_data"
    }
   ],
   "source": [
    "plt.figure(figsize=(8,8))\n",
    "sns.distplot(e**y_test-e**y_pred_rfr) # As I took log before, re-converting the values to real prices"
   ]
  },
  {
   "cell_type": "markdown",
   "metadata": {},
   "source": [
    "# Support vector regression"
   ]
  },
  {
   "cell_type": "code",
   "execution_count": 80,
   "metadata": {},
   "outputs": [
    {
     "data": {
      "text/plain": [
       "0.8677794525131138"
      ]
     },
     "execution_count": 80,
     "metadata": {},
     "output_type": "execute_result"
    }
   ],
   "source": [
    "svr = SVR().fit(X_train, y_train)\n",
    "y_pred_svr = svr.predict(X_test)\n",
    "svr.score(X_test, y_test)"
   ]
  },
  {
   "cell_type": "code",
   "execution_count": 81,
   "metadata": {},
   "outputs": [
    {
     "name": "stdout",
     "output_type": "stream",
     "text": [
      "0.8576922259537942\n"
     ]
    }
   ],
   "source": [
    "scr = cross_val_score(svr, X,y, cv=5)\n",
    "print(scr.mean())"
   ]
  },
  {
   "cell_type": "markdown",
   "metadata": {},
   "source": [
    "# Hyper paramter tuning"
   ]
  },
  {
   "cell_type": "markdown",
   "metadata": {},
   "source": [
    "I will be performing hyper parameter tuning on the random forest regressor model, as it gave the best performance."
   ]
  },
  {
   "cell_type": "code",
   "execution_count": 82,
   "metadata": {},
   "outputs": [],
   "source": [
    "from sklearn.model_selection import GridSearchCV"
   ]
  },
  {
   "cell_type": "code",
   "execution_count": 83,
   "metadata": {},
   "outputs": [],
   "source": [
    "parameters = { 'n_estimators' : [100,150],\n",
    "               'min_samples_leaf' : [1,2], \n",
    "              'min_samples_split': [2,3],\n",
    "              'criterion': ['mse','mae']\n",
    "}"
   ]
  },
  {
   "cell_type": "code",
   "execution_count": 84,
   "metadata": {},
   "outputs": [],
   "source": [
    "GCV = GridSearchCV(RandomForestRegressor(),parameters,cv=5)"
   ]
  },
  {
   "cell_type": "code",
   "execution_count": 85,
   "metadata": {},
   "outputs": [
    {
     "data": {
      "text/plain": [
       "GridSearchCV(cv=5, estimator=RandomForestRegressor(),\n",
       "             param_grid={'criterion': ['mse', 'mae'],\n",
       "                         'min_samples_leaf': [1, 2],\n",
       "                         'min_samples_split': [2, 3],\n",
       "                         'n_estimators': [100, 150]})"
      ]
     },
     "execution_count": 85,
     "metadata": {},
     "output_type": "execute_result"
    }
   ],
   "source": [
    "GCV.fit(X_train,y_train)"
   ]
  },
  {
   "cell_type": "code",
   "execution_count": 86,
   "metadata": {},
   "outputs": [
    {
     "data": {
      "text/plain": [
       "{'criterion': 'mse',\n",
       " 'min_samples_leaf': 1,\n",
       " 'min_samples_split': 3,\n",
       " 'n_estimators': 100}"
      ]
     },
     "execution_count": 86,
     "metadata": {},
     "output_type": "execute_result"
    }
   ],
   "source": [
    "GCV.best_params_"
   ]
  },
  {
   "cell_type": "markdown",
   "metadata": {},
   "source": [
    "Training model according to the best parameters"
   ]
  },
  {
   "cell_type": "code",
   "execution_count": 87,
   "metadata": {},
   "outputs": [
    {
     "data": {
      "text/plain": [
       "0.9657742606526253"
      ]
     },
     "execution_count": 87,
     "metadata": {},
     "output_type": "execute_result"
    }
   ],
   "source": [
    "mod = RandomForestRegressor(min_samples_leaf= 1, min_samples_split =2, n_estimators = 150, criterion='mse')\n",
    "mod.fit(X_train,y_train)\n",
    "pred = mod.predict(X_test)\n",
    "mod.score(X_test,y_test)"
   ]
  },
  {
   "cell_type": "code",
   "execution_count": 88,
   "metadata": {},
   "outputs": [
    {
     "name": "stdout",
     "output_type": "stream",
     "text": [
      "0.9278739517943783\n"
     ]
    }
   ],
   "source": [
    "scr = cross_val_score(mod, X,y, cv=4)\n",
    "print(scr.mean())"
   ]
  },
  {
   "cell_type": "markdown",
   "metadata": {},
   "source": [
    "As we can observe hyper parameter tuning improved the r^2 score to 0.927 which is good."
   ]
  },
  {
   "cell_type": "code",
   "execution_count": 89,
   "metadata": {},
   "outputs": [
    {
     "data": {
      "image/png": "[encoded data removed]",
      "text/plain": [
       "<Figure size 576x576 with 1 Axes>"
      ]
     },
     "metadata": {
      "needs_background": "light"
     },
     "output_type": "display_data"
    }
   ],
   "source": [
    "plt.figure(figsize=(8,8))\n",
    "plt.scatter(e**y_test,e**pred)\n",
    "plt.xlabel(\"Actual value of car\")\n",
    "plt.ylabel(\"Predicted value of car\")\n",
    "plt.ticklabel_format(style='plain', axis='y')\n",
    "plt.ticklabel_format(style='plain', axis='x')"
   ]
  },
  {
   "cell_type": "markdown",
   "metadata": {},
   "source": [
    "Scatter plot of predicted vs actual values, we can se ethat there are some outliers, but most of the values lie in a stright line at 45deg which is optimal."
   ]
  },
  {
   "cell_type": "markdown",
   "metadata": {},
   "source": [
    "We also got a much tighter fir near 0 deviation which means our model is performing well."
   ]
  },
  {
   "cell_type": "code",
   "execution_count": 90,
   "metadata": {},
   "outputs": [
    {
     "data": {
      "text/plain": [
       "<matplotlib.axes._subplots.AxesSubplot at 0x2dbc6221a48>"
      ]
     },
     "execution_count": 90,
     "metadata": {},
     "output_type": "execute_result"
    },
    {
     "data": {
      "image/png": "[encoded data removed]",
      "text/plain": [
       "<Figure size 576x576 with 1 Axes>"
      ]
     },
     "metadata": {
      "needs_background": "light"
     },
     "output_type": "display_data"
    }
   ],
   "source": [
    "plt.figure(figsize=(8,8))\n",
    "sns.distplot(e**y_test-e**pred) # As I took log before, re-converting the values to real prices"
   ]
  },
  {
   "cell_type": "markdown",
   "metadata": {},
   "source": [
    "# Checking the Concordance index"
   ]
  },
  {
   "cell_type": "code",
   "execution_count": 91,
   "metadata": {},
   "outputs": [
    {
     "name": "stdout",
     "output_type": "stream",
     "text": [
      "Requirement already satisfied: lifelines in c:\\users\\dheerajkumar_pittala\\appdata\\local\\continuum\\anaconda3\\lib\\site-packages (0.26.4)\n",
      "Requirement already satisfied: scipy>=1.2.0 in c:\\users\\dheerajkumar_pittala\\appdata\\local\\continuum\\anaconda3\\lib\\site-packages (from lifelines) (1.3.1)\n",
      "Requirement already satisfied: formulaic<0.3,>=0.2.2 in c:\\users\\dheerajkumar_pittala\\appdata\\local\\continuum\\anaconda3\\lib\\site-packages (from lifelines) (0.2.4)\n",
      "Requirement already satisfied: numpy>=1.14.0 in c:\\users\\dheerajkumar_pittala\\appdata\\local\\continuum\\anaconda3\\lib\\site-packages (from lifelines) (1.16.5)\n",
      "Requirement already satisfied: matplotlib>=3.0 in c:\\users\\dheerajkumar_pittala\\appdata\\local\\continuum\\anaconda3\\lib\\site-packages (from lifelines) (3.1.1)\n",
      "Requirement already satisfied: autograd-gamma>=0.3 in c:\\users\\dheerajkumar_pittala\\appdata\\local\\continuum\\anaconda3\\lib\\site-packages (from lifelines) (0.5.0)\n",
      "Requirement already satisfied: pandas>=0.23.0 in c:\\users\\dheerajkumar_pittala\\appdata\\local\\continuum\\anaconda3\\lib\\site-packages (from lifelines) (0.25.1)\n",
      "Requirement already satisfied: autograd>=1.3 in c:\\users\\dheerajkumar_pittala\\appdata\\local\\continuum\\anaconda3\\lib\\site-packages (from lifelines) (1.3)\n",
      "Requirement already satisfied: interface-meta>=1.2 in c:\\users\\dheerajkumar_pittala\\appdata\\local\\continuum\\anaconda3\\lib\\site-packages (from formulaic<0.3,>=0.2.2->lifelines) (1.2.4)\n",
      "Requirement already satisfied: astor in c:\\users\\dheerajkumar_pittala\\appdata\\local\\continuum\\anaconda3\\lib\\site-packages (from formulaic<0.3,>=0.2.2->lifelines) (0.8.1)\n",
      "Requirement already satisfied: wrapt in c:\\users\\dheerajkumar_pittala\\appdata\\local\\continuum\\anaconda3\\lib\\site-packages (from formulaic<0.3,>=0.2.2->lifelines) (1.11.2)\n",
      "Requirement already satisfied: cycler>=0.10 in c:\\users\\dheerajkumar_pittala\\appdata\\local\\continuum\\anaconda3\\lib\\site-packages (from matplotlib>=3.0->lifelines) (0.10.0)\n",
      "Requirement already satisfied: kiwisolver>=1.0.1 in c:\\users\\dheerajkumar_pittala\\appdata\\local\\continuum\\anaconda3\\lib\\site-packages (from matplotlib>=3.0->lifelines) (1.1.0)\n",
      "Requirement already satisfied: pyparsing!=2.0.4,!=2.1.2,!=2.1.6,>=2.0.1 in c:\\users\\dheerajkumar_pittala\\appdata\\local\\continuum\\anaconda3\\lib\\site-packages (from matplotlib>=3.0->lifelines) (2.4.2)\n",
      "Requirement already satisfied: python-dateutil>=2.1 in c:\\users\\dheerajkumar_pittala\\appdata\\local\\continuum\\anaconda3\\lib\\site-packages (from matplotlib>=3.0->lifelines) (2.8.0)\n",
      "Requirement already satisfied: pytz>=2017.2 in c:\\users\\dheerajkumar_pittala\\appdata\\local\\continuum\\anaconda3\\lib\\site-packages (from pandas>=0.23.0->lifelines) (2019.3)\n",
      "Requirement already satisfied: future>=0.15.2 in c:\\users\\dheerajkumar_pittala\\appdata\\local\\continuum\\anaconda3\\lib\\site-packages (from autograd>=1.3->lifelines) (0.17.1)\n",
      "Requirement already satisfied: six in c:\\users\\dheerajkumar_pittala\\appdata\\local\\continuum\\anaconda3\\lib\\site-packages (from cycler>=0.10->matplotlib>=3.0->lifelines) (1.12.0)\n",
      "Requirement already satisfied: setuptools in c:\\users\\dheerajkumar_pittala\\appdata\\local\\continuum\\anaconda3\\lib\\site-packages (from kiwisolver>=1.0.1->matplotlib>=3.0->lifelines) (41.4.0)\n",
      "Concordance index: 0.9521745439019875\n"
     ]
    }
   ],
   "source": [
    "!pip install lifelines\n",
    "from lifelines.utils import concordance_index\n",
    "print(f'Concordance index: {concordance_index(y_test, pred)}')"
   ]
  },
  {
   "cell_type": "markdown",
   "metadata": {},
   "source": [
    "We got Concordance index: 0.9521745439019875, which is a very good value. and it mease that the model is performing great."
   ]
  },
  {
   "cell_type": "markdown",
   "metadata": {},
   "source": [
    "# Saving the model"
   ]
  },
  {
   "cell_type": "code",
   "execution_count": 92,
   "metadata": {},
   "outputs": [
    {
     "data": {
      "text/plain": [
       "['CarPricePred.pkl']"
      ]
     },
     "execution_count": 92,
     "metadata": {},
     "output_type": "execute_result"
    }
   ],
   "source": [
    "import joblib\n",
    "joblib.dump(mod,\"CarPricePred.pkl\")"
   ]
  },
  {
   "cell_type": "code",
   "execution_count": null,
   "metadata": {},
   "outputs": [],
   "source": []
  }
 ],
 "metadata": {
  "kernelspec": {
   "display_name": "Python 3",
   "language": "python",
   "name": "python3"
  },
  "language_info": {
   "codemirror_mode": {
    "name": "ipython",
    "version": 3
   },
   "file_extension": ".py",
   "mimetype": "text/x-python",
   "name": "python",
   "nbconvert_exporter": "python",
   "pygments_lexer": "ipython3",
   "version": "3.7.4"
  }
 },
 "nbformat": 4,
 "nbformat_minor": 2
}
